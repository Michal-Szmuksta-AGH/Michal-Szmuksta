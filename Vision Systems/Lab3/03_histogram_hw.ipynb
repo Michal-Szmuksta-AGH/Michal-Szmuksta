{
 "cells": [
  {
   "cell_type": "markdown",
   "metadata": {},
   "source": [
    "## Zadanie domowe: BBHE i DSIHE\n",
    "\n",
    "W klasycznym wyrównywaniu histogramu HE  po wykonaniu operacji jasność obrazu ulega zmianie.\n",
    "Dało się to zaobserwować podczas przeprowadzonych eksperymentów.\n",
    "Jeśli nie to należy uruchomić skrypt z sekcji A i zwrócić na to uwagę.\n",
    "Średnia jasność dąży do środkowego poziomu szarości.\n",
    "Jest to wada i dlatego klasyczne HE ma ograniczone zastosowanie.\n",
    "\n",
    "Powstało sporo metod, które eliminują to niekorzystne zjawisko.\n",
    "Najprostsze z nich polegają na dekompozycji obrazu wejściowego na dwa podobrazy (wg. pewnego kryterium).\n",
    "Następnie operacja HE wykonywana jest dla tych podobrazów.\n",
    "\n",
    "Dwie znane z literatury metody to:\n",
    "- Bi-Histogram Equalization\n",
    "- DSIHE - Dualistic Sub-Image Histogram Equalization\n",
    "\n",
    "W metodzie BBHE za kryterium podziału przyjmuje się średnią jasność w obrazie.\n",
    "W DSIHE obraz dzieli się na dwa podobrazy o takiej samej liczbie pikseli (jaśniejszych i ciemniejszych).\n",
    "\n",
    "W ramach zadania należy zaimplementować wybraną metodę: BBHE lub DSIHE (ew. obie).\n",
    "\n",
    "1. Wczytaj obraz *jet.bmp* i wylicz jego histogram.\n",
    "2. W kolejnym kroku należy wyznaczyć próg podziału obrazu na dwa podobrazy (*lm*).\n",
    "3. Dla BBHE wyznacz średnią jasność obrazu. Dla DSIHE można wykorzystać histogram skumulowany.\n",
    "Należy znaleźć poziom jasności który znajduje się \"w połowie\" histogramu skumulowanego.\n",
    "W tym celu warto stworzyć tablicę, zawierającą moduł histogramu skumulowanego pomniejszonego o połowę liczby pikseli.\n",
    "Następnie znaleźć minimum.\n",
    "4. Dalej należy podzielić histogram oryginalnego obrazu na dwa histogramy *H1* i *H2*.\n",
    "Dla każdego z nich wyliczyć histogram skumulowany ($C_1$ i $C_2$) i wykonać normalizację.\n",
    "Normalizacja polega na podzieleniu każdego histogramu przez jego największy element.\n",
    "5. Na podstawie histogramów skumulowanych należy stworzyć przekształcenie LUT.\n",
    "Należy tak przeskalować $C_1$ i $C_2$, aby uzyskać jednorodne przekształcenie.\n",
    "Tablicę $C_1$ wystarczy pomnożyć przez próg podziału.\n",
    "Tablicę $C_2$ należy przeskalować do przedziału: $<lm+1; 255>$, gdzie $lm$ jest progiem podziału.<br>\n",
    "$C_{1n} = (lm)*C1;$<br>\n",
    "$C_{2n} = lm+1 + (255-lm-1)*C2;$<br>\n",
    "Następnie dwie części tablicy przekodowań należy połączyć.\n",
    "6. Ostatecznie należy wykonać operację LUT i wyświetlić wynik wyrównywania histogramu.\n",
    "Porównaj wynik operacji BBHE lub DSIHE z klasycznym HE."
   ]
  },
  {
   "cell_type": "code",
   "execution_count": null,
   "metadata": {
    "pycharm": {
     "name": "#%% Zadanie domowe - BBHE\n"
    }
   },
   "outputs": [],
   "source": [
    "import cv2\n",
    "import os\n",
    "from matplotlib import pyplot as plt\n",
    "import numpy as np\n",
    "\n",
    "if not os.path.exists(\"jet.bmp\") :\n",
    "    !wget https://raw.githubusercontent.com/vision-agh/poc_sw/master/03_Histogram/jet.bmp --no-check-certificate\n",
    "jet = cv2.imread(\"jet.bmp\", cv2.IMREAD_GRAYSCALE)"
   ]
  },
  {
   "cell_type": "code",
   "execution_count": null,
   "metadata": {
    "pycharm": {
     "name": "#%% Zadanie domowe - DSIHE\n"
    }
   },
   "outputs": [],
   "source": [
    "def BBHE_equalization(image):\n",
    "    I = image\n",
    "    H = cv2.calcHist([I],[0],None,[256],[0,256])\n",
    "    lm = int(np.round(np.mean(I)))\n",
    "    H1 = H[:lm]\n",
    "    H2 = H[lm:]\n",
    "    C1 = H1.cumsum()\n",
    "    C1 = C1/np.max(C1)\n",
    "    C2 = H2.cumsum()\n",
    "    C2 = C2/np.max(C2)\n",
    "    C1n = lm * C1\n",
    "    C2n = lm + 1 +(255 - lm - 1) * C2\n",
    "    C = np.concatenate([C1n, C2n])\n",
    "    I_eq = cv2.LUT(I,C)\n",
    "    return I_eq"
   ]
  },
  {
   "cell_type": "code",
   "execution_count": null,
   "metadata": {
    "pycharm": {
     "name": "#%%\n"
    }
   },
   "outputs": [],
   "source": [
    "def DSIHE_equalization(image):\n",
    "    I = image\n",
    "    H = cv2.calcHist([I],[0],None,[256],[0,256])\n",
    "    lm = int(np.round(np.median(I)))\n",
    "    H1 = H[:lm]\n",
    "    H2 = H[lm:]\n",
    "    C1 = H1.cumsum()\n",
    "    C1 = C1/np.max(C1)\n",
    "    C2 = H2.cumsum()\n",
    "    C2 = C2/np.max(C2)\n",
    "    C1n = lm * C1\n",
    "    C2n = lm + 1 +(255 - lm - 1) * C2\n",
    "    C = np.concatenate([C1n, C2n])\n",
    "    I_eq = cv2.LUT(I,C)\n",
    "    return I_eq"
   ]
  },
  {
   "cell_type": "code",
   "execution_count": null,
   "metadata": {
    "pycharm": {
     "name": "#%%\n"
    }
   },
   "outputs": [],
   "source": [
    "def show_image_hist_histcum(I, title):\n",
    "    fig, ax = plt.subplots(1,3, figsize=(15,5))\n",
    "    fig.suptitle(title,fontsize=20)\n",
    "    ax[0].imshow(I,'gray',vmin=0,vmax=256)\n",
    "    ax[0].axis('off')\n",
    "    H = cv2.calcHist([I],[0],None,[256],[0,256])\n",
    "    ax[1].plot(H)\n",
    "    ax[1].set_title('Histogram')\n",
    "    ax[1].grid('on')\n",
    "    H_cum = H.cumsum()\n",
    "    ax[2].plot(H_cum)\n",
    "    ax[2].set_title('Histogram skumulowany')\n",
    "    ax[2].grid('on')\n",
    "    plt.show()"
   ]
  },
  {
   "cell_type": "code",
   "execution_count": null,
   "metadata": {
    "pycharm": {
     "name": "#%%\n"
    }
   },
   "outputs": [],
   "source": [
    "show_image_hist_histcum(jet,'Ogyginalny obraz')\n",
    "show_image_hist_histcum(cv2.equalizeHist(jet),'Klasyczne wyrównanie')\n",
    "show_image_hist_histcum(BBHE_equalization(jet),'Wyrównanie BBHE')\n",
    "show_image_hist_histcum(DSIHE_equalization(jet),'Wyrównanie DSIHE')"
   ]
  }
 ],
 "metadata": {
  "kernelspec": {
   "display_name": "Python 3 (ipykernel)",
   "language": "python",
   "name": "python3"
  },
  "language_info": {
   "codemirror_mode": {
    "name": "ipython",
    "version": 3
   },
   "file_extension": ".py",
   "mimetype": "text/x-python",
   "name": "python",
   "nbconvert_exporter": "python",
   "pygments_lexer": "ipython3",
   "version": "3.9.11"
  }
 },
 "nbformat": 4,
 "nbformat_minor": 1
}