{
 "cells": [
  {
   "cell_type": "markdown",
   "metadata": {
    "pycharm": {
     "name": "#%% md\n"
    }
   },
   "source": [
    "# Histogram obrazu. Wyrównywanie histogramu."
   ]
  },
  {
   "cell_type": "markdown",
   "metadata": {
    "pycharm": {
     "name": "#%% md\n"
    }
   },
   "source": [
    "## Cel ćwiczenia\n",
    "\n",
    "- Zapoznanie z pojęciem histogramu obrazu (w odcieniach szarości i kolorze).\n",
    "- Zapoznanie z metodami modyfikacji histogramu (rozciąganie, wyrównywanie, dopasowywanie)."
   ]
  },
  {
   "cell_type": "markdown",
   "metadata": {
    "pycharm": {
     "name": "#%% md\n"
    }
   },
   "source": [
    "## Histogram\n",
    "\n",
    "- Histogramem obrazu nazywamy wykres słupkowy zdefiniowany następującymi zależnościami:<br>\n",
    "\\begin{equation}\n",
    "h(i) = \\sum_{x=0}^{N-1} \\sum_{y=0}^{M-1} p(i,(x,y))\n",
    "\\end{equation}<br>\n",
    "gdzie:<br>\n",
    "\\begin{equation}\n",
    "p(i) =  \\left\\{\n",
    "  \\begin{array}{l l}\n",
    "    1 & \\quad \\text{gdy} f(x,y) = i\\\\\n",
    "    0 & \\quad \\text{gdy} f(x,y) \\ne i\n",
    "  \\end{array} \\right.\n",
    "\\end{equation}\n",
    "\n",
    "- Inaczej mówiąc, histogram zawiera informacje na temat tego ile pikseli o danym poziomie jasności występuje na obrazie (w przypadku obrazu w odcieniach szarości). Określa się to także rozkładem empirycznym cechy.\n",
    "\n",
    "- Często wykorzystuje się tzw. znormalizowaną postać histogramu  – wszystkie wartości $h(i)$ są dzielone przez liczbę pikseli na obrazie.\n",
    "Otrzymana w ten sposób wielkość to gęstość prawdopodobieństwa wystąpienia na obrazie pikseli o odcieniu $i$.\n",
    "\n",
    "- Histogram można zdefiniować również dla obrazów kolorowych.\n",
    "Otrzymujemy wtedy 3 histogramy – po jednym dla danej składowej: R,G,B (lub HSV, YCbCr, itp.) lub histogram trójwymiarowy.\n",
    "\n",
    "- Histogram jest bardzo użyteczny w przetwarzaniu i analizie obrazów.\n",
    "Wykorzystywany jest przy binaryzacji (szerzej na jednym z kolejnych laboratoriów) oraz do oceny jakości (dynamiki, kontrastu) obrazu.\n",
    "W idealnym przypadku wszystkie poziomy jasności w obrazie powinny być wykorzystane (i to najlepiej w miarę jednolicie)  – obrazowo mówiąc histogram powinien rozciągać się od 0  – 255 (obraz w skali szarości).\n",
    "\n",
    "- W przypadku gdy  wykorzystujemy jedynie fragment dostępnego zakresu (wąski histogram)  lub histogram nie jest jednolity (występują dominujące grupy pikseli) obraz ma dość słaby kontrast.\n",
    "Cechę tę można poprawić stosując tzw. rozciąganie albo wyrównywanie histogramu (ang. *histogram equalization*).</div>"
   ]
  },
  {
   "cell_type": "markdown",
   "metadata": {
    "pycharm": {
     "name": "#%% md\n"
    }
   },
   "source": [
    "## Histogram dla obrazów w odcieniach szarości\n",
    "\n",
    "1. Zaimportuj potrzebne biblioteki: *OpenCV*, *pyplot* z *matplotlib* i *numpy*.\n",
    "        import cv2\n",
    "        from matplotlib import pyplot as plt\n",
    "        import numpy as np\n",
    "2. Wczytaj obrazy *lenaX.bmp* w skali szarości. *X* jest numerem wczytywanego obrazu (1 - 4).\n",
    "        I = cv2.imread('lenaX.bmp', cv2.IMREAD_GRAYSCALE)\n",
    "3. Oblicz histogram wczytanego obrazu wykorzystując funkcję `cv2.calcHist`.\n",
    "    - Pierwszym argumentem jest obraz, dla którego obliczony zostanie histogram.\n",
    "    Należy go przekazać w nawiasie kwadratowym.\n",
    "    - Drugim argumentem jest numer kanału, dla którego ma zostać obliczony histogram.\n",
    "    Również powinien być przekazany w nawiasie kwadratowym.\n",
    "    - Trzeci argument oznacza maskę, czyli obszar, dla którego ma zostać wyznaczony histogram.\n",
    "    Aby obliczyć dla całego obrazu należy przekazać *None*.\n",
    "    - Czwartym argumentem jest rozmiar histogramu (liczba przedziałów).\n",
    "    Argument powinien być w nawiasie kwadratowym. Dla pełnej skali należy przekazać wartość *256*.\n",
    "    - Ostatnim argumentem jest zakres wartości. Dla obrazów typu *uint8* powinien on wynosić *[0, 256]*.\n",
    "    - Funkcja zwraca obliczony histogram.\n",
    "4. Wyświetl wczytane obrazy i ich histogramy w jednym oknie. Użyj `plt.subplot()` w celu stworzenia siatki wykresów.\n",
    "        figLena, axsLena = plt.subplots(2, 4)\n",
    "Rozmiar utworzonego okna można zmienić wykorzystując instrukcję (uwaga w calach -  1 cal to 2.54cm):\n",
    "        figLena.set_size_inches(20, 10)\n",
    "Przykładowe wyświetlenie obrazu:\n",
    "        axsLena[0, 0].imshow(I1, 'gray', vmin=0, vmax=256)\n",
    "        axsLena[0, 0].axis('off')\n",
    "Przykładowe wyświetlenie histogramu:\n",
    "        axsLena[1, 0].plot(H1)\n",
    "        axsLena[1, 0].grid()\n",
    "5. Przeanalizuj (dokładnie) związek histogramu z jasnością i ostrością obrazu (tu rozumianą jako subiektywne odczucie)."
   ]
  },
  {
   "cell_type": "code",
   "execution_count": null,
   "metadata": {
    "pycharm": {
     "name": "#%% Zadanie 1 - wyświetlanie\n"
    }
   },
   "outputs": [],
   "source": [
    "import cv2\n",
    "import os\n",
    "from matplotlib import pyplot as plt\n",
    "import numpy as np\n",
    "\n",
    "if not os.path.exists(\"lena1.bmp\") :\n",
    "    !wget https://raw.githubusercontent.com/vision-agh/poc_sw/master/03_Histogram/lena1.bmp --no-check-certificate\n",
    "I1 = cv2.imread('lena1.bmp', cv2.IMREAD_GRAYSCALE)\n",
    "\n",
    "if not os.path.exists(\"lena2.bmp\") :\n",
    "    !wget https://raw.githubusercontent.com/vision-agh/poc_sw/master/03_Histogram/lena2.bmp --no-check-certificate\n",
    "I2 = cv2.imread('lena2.bmp', cv2.IMREAD_GRAYSCALE)\n",
    "\n",
    "if not os.path.exists(\"lena3.bmp\") :\n",
    "    !wget https://raw.githubusercontent.com/vision-agh/poc_sw/master/03_Histogram/lena3.bmp --no-check-certificate\n",
    "I3 = cv2.imread('lena3.bmp', cv2.IMREAD_GRAYSCALE)\n",
    "\n",
    "if not os.path.exists(\"lena4.bmp\") :\n",
    "    !wget https://raw.githubusercontent.com/vision-agh/poc_sw/master/03_Histogram/lena4.bmp --no-check-certificate\n",
    "I4 = cv2.imread('lena4.bmp', cv2.IMREAD_GRAYSCALE)"
   ]
  },
  {
   "cell_type": "code",
   "execution_count": null,
   "metadata": {
    "pycharm": {
     "name": "#%%\n"
    }
   },
   "outputs": [],
   "source": [
    "fig, ax = plt.subplots(2,4, figsize=(20,10))\n",
    "ax[0][0].imshow(I1,'gray',vmin=0, vmax=256)\n",
    "ax[0][0].axis('off')\n",
    "\n",
    "ax[0][1].imshow(I2,'gray',vmin=0, vmax=256)\n",
    "ax[0][1].axis('off')\n",
    "\n",
    "ax[0][2].imshow(I3,'gray',vmin=0, vmax=256)\n",
    "ax[0][2].axis('off')\n",
    "\n",
    "ax[0][3].imshow(I4,'gray',vmin=0, vmax=256)\n",
    "ax[0][3].axis('off')\n",
    "\n",
    "H1 = cv2.calcHist([I1],[0],None,[256],[0,256])\n",
    "ax[1][0].plot(H1)\n",
    "ax[1][0].grid('on')\n",
    "\n",
    "H2 = cv2.calcHist([I2],[0],None,[256],[0,256])\n",
    "ax[1][1].plot(H2)\n",
    "ax[1][1].grid('on')\n",
    "\n",
    "H3 = cv2.calcHist([I3],[0],None,[256],[0,256])\n",
    "ax[1][2].plot(H3)\n",
    "ax[1][2].grid('on')\n",
    "\n",
    "H4 = cv2.calcHist([I4],[0],None,[256],[0,256])\n",
    "ax[1][3].plot(H4)\n",
    "ax[1][3].grid('on')\n",
    "plt.show()\n",
    "\n",
    "# Widać, że w obrazach subiektywnie jaśniejszych dominują piksele o dużych wartościach, natomiast tych ciemniejszych, piksele o mniejszych wartościach. Histogram obrazów subiektywnie ostrzejszych jest za to bardziej rozciągnięty (zawiera większe kontrasty) niż tych, które wydają się mniej ostre."
   ]
  },
  {
   "cell_type": "markdown",
   "metadata": {
    "pycharm": {
     "name": "#%% md\n"
    }
   },
   "source": [
    "## Rozciąganie histogramu\n",
    "\n",
    "Najprostszą metodą poprawienia jakości obrazu jest tzw. rozciągnięcie histogramu.\n",
    "Polega na przeskalowaniu wartości pikseli w obrazie tak, aby wykorzystać cały dostępny zakres [0-255] (oczywiście w przypadku obrazów w odcieniach szarości w reprezentacji 8-bitowej).\n",
    "\n",
    "1. Wczytaj obraz *hist1.bmp* w skali szarości.\n",
    "Oblicz i wyświetl histogram rozpatrywanego obrazu (na wspólnym rysunku z obrazem).\n",
    "Zwróć uwagę na ilość widocznych szczegółów.\n",
    "2. Rozciągnij histogram obrazu. W tym celu można wykorzystać funkcję `cv2.normalize`.\n",
    "    - Pierwszym argumentem funkcji jest obraz poddawany operacji.\n",
    "    - Drugim argumentem jest tablica do której zostanie wpisany wynik.\n",
    "    Należy ją najpierw zainicjalizować.\n",
    "    Najlepiej zrobić to funkcją `np.zeros`, której pierwszym argumentem jest rozmiar obrazu (`I.shape`), a drugim typ danych (`uint8`).\n",
    "    Można również przekazać `None`, a wynik przypisać do nowej zmiennej.\n",
    "    - Trzecim argumentem jest minimalna wartość po normalizacji.\n",
    "    - Czwartym argumentem jest wartość maksymalna po normalizacji.\n",
    "    - Ostatnim argumentem jest typ wykorzystanej normy (uogólnienie pojęcia długości wektora).\n",
    "    Należy wykorzystać normę `cv2.NORM_MINMAX`.\n",
    "3. Rezultat operacji wyświetl (obraz i jego histogram).\n",
    "4. Czy ilość \"widocznych\" szczegółów uległa zmianie?"
   ]
  },
  {
   "cell_type": "code",
   "execution_count": null,
   "metadata": {
    "pycharm": {
     "name": "#%% Zadanie 2 - rozciąganie\n"
    }
   },
   "outputs": [],
   "source": [
    "if not os.path.exists(\"hist1.bmp\") :\n",
    "    !wget https://raw.githubusercontent.com/vision-agh/poc_sw/master/03_Histogram/hist1.bmp --no-check-certificate\n",
    "hist1 = cv2.imread('hist1.bmp', cv2.IMREAD_GRAYSCALE)\n",
    "\n",
    "if not os.path.exists(\"hist2.bmp\") :\n",
    "    !wget https://raw.githubusercontent.com/vision-agh/poc_sw/master/03_Histogram/hist2.bmp --no-check-certificate\n",
    "hist2 = cv2.imread('hist2.bmp', cv2.IMREAD_GRAYSCALE)\n",
    "\n",
    "if not os.path.exists(\"hist3.bmp\") :\n",
    "    !wget https://raw.githubusercontent.com/vision-agh/poc_sw/master/03_Histogram/hist3.bmp --no-check-certificate\n",
    "hist3 = cv2.imread('hist3.bmp', cv2.IMREAD_GRAYSCALE)\n",
    "\n",
    "if not os.path.exists(\"hist4.bmp\") :\n",
    "    !wget https://raw.githubusercontent.com/vision-agh/poc_sw/master/03_Histogram/hist4.bmp --no-check-certificate\n",
    "hist4 = cv2.imread('hist4.bmp', cv2.IMREAD_GRAYSCALE)\n",
    "\n",
    "fig, ax = plt.subplots(1,2, figsize=(10,5))\n",
    "ax[0].imshow(hist1,'gray',vmin=0, vmax=256)\n",
    "ax[0].axis('off')\n",
    "\n",
    "H1 = cv2.calcHist([hist1],[0],None,[256],[0,256])\n",
    "ax[1].plot(H1)\n",
    "ax[1].grid('on')\n",
    "plt.show()\n",
    "\n",
    "hist1_normalized = np.zeros(hist1.shape,'uint8')\n",
    "cv2.normalize(hist1,hist1_normalized,0,256,cv2.NORM_MINMAX)\n",
    "\n",
    "fig, ax = plt.subplots(1,2, figsize=(10,5))\n",
    "ax[0].imshow(hist1_normalized,'gray',vmin=0,vmax=256)\n",
    "ax[0].axis('off')\n",
    "\n",
    "H1_normalized = cv2.calcHist([hist1_normalized],[0],None,[256],[0,256])\n",
    "ax[1].plot(H1_normalized)\n",
    "ax[1].grid('on')\n",
    "plt.show()\n",
    "\n",
    "# Zdecydowanie zdjęcie wynikowe, powstałe po rozciągnięciu histogramu zawiera więcej szczegółów niż sam oryginał. Jest to spowodowane nowo powstałymi większymi kontrastami między kolorami, które są łatwiejsze do wyłapania przez ludzkie oko."
   ]
  },
  {
   "cell_type": "markdown",
   "metadata": {
    "pycharm": {
     "name": "#%% md\n"
    }
   },
   "source": [
    "## Wyrównywanie histogramu\n",
    "\n",
    "<div style=\"text-align: justify\">\n",
    "Bardziej zaawansowaną metodą jest tzw. wyrównywanie histogramu (ang. *histogram equalization – HE*).\n",
    "Idea jest następująca: z punktu widzenia lepszego wykorzystania dostępnych poziomów jasności pożądane jest rozciągnięcie \"szczytów\" histogramu, a~skompresowanie \"dolin\" tak, aby taka sama liczba pikseli reprezentowana była przez każdy z dostępnych poziomów jasności (a przynjamniej przybliżona).\n",
    "Warto zwrócić uwagę, że takie przekształcenie powoduje częściową utratę informacji o szczegółach w obszarach \"dolin\".\n",
    "Inaczej mówiąc, dążymy do sytuacji, aby histogram był względnie jednostajny.\n",
    "Operacją, która pozwala wykonać wyrównywanie histogramu, jest przekształcenie LUT z funkcją przejścia w postaci histogramu skumulowanego danego obrazu.</div><br>\n",
    "\n",
    "<div style=\"text-align: justify\">\n",
    "Histogram skumulowany to funkcja obliczona na podstawie histogramu.\n",
    "Jej pierwszy element to liczba pikseli o odcieniu $0$.\n",
    "Kolejne wartości to liczba pikseli o odcieniach od $0$ do $n$.</div>\n",
    "\n",
    "\\begin{equation}\n",
    "C(n) = \\sum_{i=0}^{n} h(i)\n",
    "\\end{equation}\n",
    "\n",
    "<div style=\"text-align: justify\">\n",
    "Jeżeli histogram jest w postaci znormalizowanej (gęstość rozkładu prawdopodobieństwa) to histogram skumulowany stanowi dystrybuantę rozkładu prawdopodobieństwa.</div><br>\n",
    "\n",
    "1. Wyznacz histogram skumulowany dla obrazu *hist1.bmp*.\n",
    "W tym celu wykorzystaj metodę `cumsum` dla histogramu wczytanego obrazu.\n",
    "Nie przyjmuje ona żadnych argumentów, a zwraca skumulowane wartości tablicy, dla której została użyta.\n",
    "Histogram należy wyliczyć dla **obrazka wejściowego**, a nie dla wyniku rozciągania.\n",
    "2. Histogram skumulowany wyświetl razem z histogramem zwykłym na jednym wykresie (nie obok siebie).\n",
    "Na potrzeby wyświetlenia przeskaluj histogram skumulowany tak, by miał taką samą wartość maksymalną jak zwykły histogram.\n",
    "W tym celu wykorzystaj metodę `max`.\n",
    "3. Wyświetlenie kilku linii na jednym wykresie może być zrealizowane w następujący sposób:\n",
    "        figHistCum, axsHistCum = plt.subplots()\n",
    "\n",
    "        axsHistCum.plot(HHist)\n",
    "        axsHistCum.plot(CHistNorm)\n",
    "        axsHistCum.grid()\n",
    "4. Teraz zaimplementuj klasyczny algorytm wyrównywania histogramu.\n",
    "Wykorzystać należy obliczony histogram skumulowany.\n",
    "Należy go przeskalować w taki sposób aby na jego podstawie zrealizować przekształcenie LUT, czyli do zakresu 0 - 255.\n",
    "\n",
    ">Uwaga. Opisany algorytm wyrównywania histogramu jest wersją uproszczoną.\n",
    ">W wersji pełnej należy podczas skalowania tablicy przekodowań LUT pominąć elementy równe *0*.\n",
    ">\n",
    ">W tym celu należy wykorzystać funkcje `np.ma.masked_equal` i `np.ma.filled`.\n",
    ">Pierwsza służy do ukrywania elementów tablicy, natomiast druga zamienia ukryte elementy na podaną wartość.\n",
    ">W tym przypadku elementem ukrywanym i wpisywaną wartością byłoby *0*.\n",
    "\n",
    "5. Na kolejnym rysunku wyświetl obrazek po przekształceniu, jego histogram oraz histogram skumulowany.\n",
    "Co szczególnego można powiedzieć o jego histogramie i histogramie skumulowanym?\n",
    "6. W bibliotece *OpenCV* dostępna jest funkcja wykonująca wyrównywanie histogramu `cv2.equalizeHist`.\n",
    "Jej argumentem jest obraz, którego histogram zostanie wyrównany. Zwraca natomiast obraz wynikowy.\n",
    "Na kolejnym rysunku wyświetl wynik funkcji, jego histogram oraz histogram skumulowany.\n",
    "7. W wykorzystywanej bibliotece zaimplementowana jest również metoda adaptacyjnego wyrównywania histogramu algorytmem CLAHE (ang. *Contrast Limited Adaptive Histogram Equalization*}.\n",
    "   Kilka słów wyjaśnienia.\n",
    "   Wadą poznanej metody HE jest jej \"globalność\" rozumiana jako nieuwzględnianie lokalnych właściwości obrazu.\n",
    "   Dlatego też powstała metoda adaptacyjnego wyrównywania histogramu (AHE).\n",
    "   Jest ona spotykana w dwóch wariantach:\n",
    "   - dla każdego piksela niezależnie, w pewnym jego otoczeniu, wyznaczany jest histogram i przeprowadzane wyrównywanie.\n",
    "     Jak nietrudno się domyślić rozwiązanie jest dość kosztowne obliczeniowo.\n",
    "   - obraz wejściowy dzielony jest na nienachodzące na siebie prostokątne okna.\n",
    "     W każdym z okien obliczany jest histogram i przeprowadzane jest wyrównywanie.\n",
    "     W celu eliminacji błędów na granicy okien, stosuje się interpolację.\n",
    "\n",
    "   Metoda AHE ma jednak tą wadę, że w obszarach jednorodnych wzmacnia szum.\n",
    "   Dlatego też zaproponowano rozwiązanie CLAHE, które zakłada ograniczenie kontrastu (CL).\n",
    "   W metodzie definiuje się maksymalną wartość danego przedziału histogramu (próg ograniczenia kontrastu).\n",
    "   Piksele, które przekraczają próg są następnie równomiernie rozdzielane pomiędzy poszczególne przedziały.\n",
    "   Bardziej szczegółowy opis obu metod dostępny jest na [Wikipedii](https://en.wikipedia.org/wiki/Adaptive_histogram_equalization).\n",
    "\n",
    "8.W celu użycia algorytmu należy wywołać funkcję `cv2.createCLAHE`.\n",
    "    - Pierwszym parametrem jest próg ograniczenia kontrastu.\n",
    "    - Drugi parametr definiuje na ile prostokątów zostanie podzielony obraz w rzęch i kolumnach.\n",
    "    - Zwracany jest zainicjalizowany *smart pointer* do klasy `cv::CLAHE`.\n",
    "9. Aby wykonać wyrównywanie należy użyć metody `apply`.\n",
    "Jej argumentem jest obraz wejściowy. Zwracany jest obraz o zmodyfikowanym histogramie.\n",
    "10. Przetestuj różne parametry algorytmu CLAHE.\n",
    "11. W kolejnym etapie należy przetestować operacje (rozciąganie, wyrównywanie (HE) i adaptacyjne wyrównywanie CLAHE)  na histogramie dla obrazów rzeczywistych. *hist2.bmp*, *hist3.bmp*, *hist4.jpg*.\n",
    "W jednym oknie wyświetl: obraz oryginalny, rozciąganie, wyrównywanie HE oraz wyrównywanie CLAHE."
   ]
  },
  {
   "cell_type": "code",
   "execution_count": null,
   "metadata": {
    "pycharm": {
     "name": "#%% Zadanie 3 - histogram skumulowany\n"
    }
   },
   "outputs": [],
   "source": [
    "H1_cumsum = H1.cumsum()\n",
    "H1_cumsum_visualize = (H1_cumsum/max(H1_cumsum))*max(H1)\n",
    "plt.plot(H1)\n",
    "plt.plot(H1_cumsum_visualize)\n",
    "plt.legend(['Histogram wyjściowy','Histogram skumulowany\\n(przeskalowany)'])\n",
    "plt.grid('on')\n",
    "plt.show()"
   ]
  },
  {
   "cell_type": "code",
   "execution_count": null,
   "metadata": {
    "pycharm": {
     "name": "#%% Zadanie 3 - wyrównywanie\n"
    }
   },
   "outputs": [],
   "source": [
    "def classic_equalize(I):\n",
    "    H = cv2.calcHist([I], [0], None, [256], [0, 256])\n",
    "    H_cumsum = H.cumsum()\n",
    "    H_cumsum = np.ma.masked_equal(H_cumsum, 0)\n",
    "    H_cumsum = H_cumsum/H_cumsum.max()\n",
    "    H_cumsum = 255*(H_cumsum-H_cumsum.min())/(1-H_cumsum.min())\n",
    "    H_cumsum = np.ma.filled(H_cumsum, 0).astype('uint8')\n",
    "    I_equalized = H_cumsum[I]\n",
    "    H_equalized = cv2.calcHist([I_equalized], [0], None, [256], [0, 256])\n",
    "    H_equalized_cumsum = H_equalized.cumsum()\n",
    "    return I_equalized, H_equalized, H_equalized_cumsum\n",
    "\n",
    "def show_image_hist_histcum(I, H, H_cum, title):\n",
    "    fig, ax = plt.subplots(1,3, figsize=(15,5))\n",
    "    fig.suptitle(title,fontsize=20)\n",
    "    ax[0].imshow(I,'gray',vmin=0,vmax=256)\n",
    "    ax[0].axis('off')\n",
    "    ax[1].plot(H)\n",
    "    ax[1].set_title('Histogram')\n",
    "    ax[1].grid('on')\n",
    "    ax[2].plot(H_cum)\n",
    "    ax[2].set_title('Histogram skumulowany')\n",
    "    ax[2].grid('on')\n",
    "    plt.show()"
   ]
  },
  {
   "cell_type": "code",
   "execution_count": null,
   "metadata": {
    "pycharm": {
     "name": "#%% Zadanie 3 - wyrównywanie OpenCV\n"
    }
   },
   "outputs": [],
   "source": [
    "I, H, H_cum = classic_equalize(hist1)\n",
    "show_image_hist_histcum(I, H, H_cum,'Wyrównywanie - zaimplementowany algorytm klasyczny')\n",
    "\n",
    "# Operacja dała podobne efekty co rozciąganie histogramu. Szczegóły są bardziej widoczne, a histogram skumulowany zachowuje się względnie jednostajnie, do czego dążono."
   ]
  },
  {
   "cell_type": "code",
   "execution_count": null,
   "metadata": {
    "pycharm": {
     "name": "#%% Zadanie 3 - CLAHE\n"
    }
   },
   "outputs": [],
   "source": [
    "I = cv2.equalizeHist(hist1)\n",
    "H = cv2.calcHist([I],[0],None,[256],[0,256])\n",
    "H_cum = H.cumsum()\n",
    "show_image_hist_histcum(I,H,H_cum,'Wyrównanie - funkcja equalizeHist')"
   ]
  },
  {
   "cell_type": "code",
   "execution_count": null,
   "metadata": {
    "pycharm": {
     "name": "#%%\n"
    }
   },
   "outputs": [],
   "source": [
    "for a,b in zip([10, 100, 50, 50],[(50,50),(50,50),(10,10),(100,100)]):\n",
    "    I = cv2.createCLAHE(a,b)\n",
    "    I = I.apply(hist1)\n",
    "    H = cv2.calcHist([I],[0],None,[256],[0,256])\n",
    "    H_cum = H.cumsum()\n",
    "    show_image_hist_histcum(I,H,H_cum,'Wyrównanie - algorytm CLAHE (próg ogr. kontrastu: {0}, liczba prostokątów: {1})'.format(a,b))"
   ]
  },
  {
   "cell_type": "code",
   "execution_count": null,
   "metadata": {
    "pycharm": {
     "name": "#%%\n"
    }
   },
   "outputs": [],
   "source": [
    "def show_different_operations(image, title):\n",
    "    I = image\n",
    "    fig, ax = plt.subplots(3,4, figsize=(20,15))\n",
    "    fig.suptitle(title,fontsize=20)\n",
    "\n",
    "    H = cv2.calcHist([I], [0], None, [256], [0, 256])\n",
    "    H_cum = H.cumsum()\n",
    "    ax[0][0].imshow(I,'gray',vmin=0,vmax=256)\n",
    "    ax[0][0].axis('off')\n",
    "    ax[0][0].set_title('Obraz oryginalny')\n",
    "    ax[1][0].plot(H)\n",
    "    ax[1][0].grid('on')\n",
    "    ax[2][0].plot(H_cum)\n",
    "    ax[2][0].grid('on')\n",
    "\n",
    "    I = image\n",
    "    I = cv2.normalize(I, None, 0, 256, cv2.NORM_MINMAX)\n",
    "    H = cv2.calcHist([I], [0], None, [256], [0, 256])\n",
    "    H_cum = H.cumsum()\n",
    "    ax[0][1].imshow(I,'gray',vmin=0,vmax=256)\n",
    "    ax[0][1].axis('off')\n",
    "    ax[0][1].set_title('Rozciąganie')\n",
    "    ax[1][1].plot(H)\n",
    "    ax[1][1].grid('on')\n",
    "    ax[2][1].plot(H_cum)\n",
    "    ax[2][1].grid('on')\n",
    "\n",
    "    I = image\n",
    "    I = cv2.equalizeHist(I)\n",
    "    H = cv2.calcHist([I],[0],None,[256],[0,256])\n",
    "    H_cum = H.cumsum()\n",
    "    ax[0][2].imshow(I,'gray',vmin=0,vmax=256)\n",
    "    ax[0][2].axis('off')\n",
    "    ax[0][2].set_title('Wyrównywanie')\n",
    "    ax[1][2].plot(H)\n",
    "    ax[1][2].grid('on')\n",
    "    ax[2][2].plot(H_cum)\n",
    "    ax[2][2].grid('on')\n",
    "\n",
    "    I = image\n",
    "    a = cv2.createCLAHE(50,(10,10))\n",
    "    I = a.apply(I)\n",
    "    H = cv2.calcHist([I],[0],None,[256],[0,256])\n",
    "    H_cum = H.cumsum()\n",
    "    ax[0][3].imshow(I,'gray',vmin=0,vmax=256)\n",
    "    ax[0][3].axis('off')\n",
    "    ax[0][3].set_title('Wyrównywanie adaptacyjne')\n",
    "    ax[1][3].plot(H)\n",
    "    ax[1][3].grid('on')\n",
    "    ax[2][3].plot(H_cum)\n",
    "    ax[2][3].grid('on')\n",
    "\n",
    "    plt.show()"
   ]
  },
  {
   "cell_type": "code",
   "execution_count": null,
   "metadata": {
    "pycharm": {
     "name": "#%%\n"
    }
   },
   "outputs": [],
   "source": [
    "for I, title in zip([hist2, hist3, hist4],['hist2','hist3','hist4']):\n",
    "    show_different_operations(I,'Operacje na obrazie {}:'.format(title))"
   ]
  },
  {
   "cell_type": "markdown",
   "metadata": {
    "pycharm": {
     "name": "#%% md\n"
    }
   },
   "source": [
    "## Histogram dla obrazów kolorowych i jego wyrównywanie\n",
    "\n",
    "1. Wczytaj obraz *lenaRGB.bmp*.\n",
    "2. Wykonaj konwersję przestrzeni barw z BGR do RGB.\n",
    "3. Wyświetl wczytany obraz oraz histogram dla każdej składowej przestrzeni barw.\n",
    "W tym celu można użyć drugiego argumentu wykorzystywanej funkcji (numer kanału).\n",
    "4. Wykonaj wyrównywanie dla każdej składowej obrazu.\n",
    "Połącz otrzymane składowe w nowy obraz i wyświetl go.\n",
    "Jaka jest zasadnicza wada takiego podejścia?\n",
    "5. Przekształć obraz wejściowy do przestrzeni HSV (flaga `cv2.COLOR_BGR2HSV`).\n",
    "Wyświetl histogramy poszczególnych składowych.\n",
    "Manipulacji dokonujemy na składowej odpowiadającej za jasność, czyli V.\n",
    "Wykonaj wyrównywanie histogramu dla tej składowej.\n",
    "Dokonaj podmiany składowej V i wyświetl rezultat operacji.\n",
    "Uprzednio przeprowadź konwersję HSV->RGB (flaga `cv2.COLOR_HSV2RGB`).\n",
    "6. Wykonaj te same operacje dla obrazu *jezioro.jpg*."
   ]
  },
  {
   "cell_type": "code",
   "execution_count": null,
   "metadata": {
    "pycharm": {
     "name": "#%% Zadanie 4 - histogram\n"
    }
   },
   "outputs": [],
   "source": [
    "if not os.path.exists(\"lenaRGB.bmp\") :\n",
    "    !wget https://raw.githubusercontent.com/vision-agh/poc_sw/master/03_Histogram/lenaRGB.bmp --no-check-certificate\n",
    "lenaRGB = cv2.imread(\"lenaRGB.bmp\")\n",
    "\n",
    "if not os.path.exists(\"jezioro.jpg\") :\n",
    "    !wget https://raw.githubusercontent.com/vision-agh/poc_sw/master/03_Histogram/jezioro.jpg --no-check-certificate\n",
    "jezioroRGB = cv2.imread(\"jezioro.jpg\")"
   ]
  },
  {
   "cell_type": "code",
   "execution_count": null,
   "metadata": {
    "pycharm": {
     "name": "#%% Zadanie 4 - wyrównanie\n"
    }
   },
   "outputs": [],
   "source": [
    "def last_task(image, title):\n",
    "    I = image\n",
    "    I = cv2.cvtColor(I, cv2.COLOR_BGR2RGB)\n",
    "    fig, ax = plt.subplots(1,4, figsize=(20,5))\n",
    "    ax[0].imshow(I, vmin=0, vmax=256)\n",
    "    ax[0].set_title('Obraz {}'.format(title))\n",
    "    ax[0].axis('off')\n",
    "    ax[1].plot(cv2.calcHist([I], [0], None, [256], [0, 256]))\n",
    "    ax[1].set_title('Składowa R')\n",
    "    ax[2].plot(cv2.calcHist([I], [1], None, [256], [0, 256]))\n",
    "    ax[2].set_title('Składowa G')\n",
    "    ax[3].plot(cv2.calcHist([I], [2], None, [256], [0, 256]))\n",
    "    ax[3].set_title('Składowa B')\n",
    "\n",
    "    I[:,:,0] = cv2.equalizeHist(I[:,:,0])\n",
    "    I[:,:,1] = cv2.equalizeHist(I[:,:,1])\n",
    "    I[:,:,2] = cv2.equalizeHist(I[:,:,2])\n",
    "\n",
    "    fig, ax = plt.subplots(1,4, figsize=(20,5))\n",
    "    ax[0].imshow(I, vmin=0, vmax=256)\n",
    "    ax[0].set_title('Obraz {} - wyrównanie składowych'.format(title))\n",
    "    ax[0].axis('off')\n",
    "    ax[1].plot(cv2.calcHist([I], [0], None, [256], [0, 256]))\n",
    "    ax[1].set_title('Składowa R')\n",
    "    ax[2].plot(cv2.calcHist([I], [1], None, [256], [0, 256]))\n",
    "    ax[2].set_title('Składowa G')\n",
    "    ax[3].plot(cv2.calcHist([I], [2], None, [256], [0, 256]))\n",
    "    ax[3].set_title('Składowa B')\n",
    "\n",
    "    I = image\n",
    "    I = cv2.cvtColor(I, cv2.COLOR_BGR2HSV)\n",
    "    fig, ax = plt.subplots(1,4, figsize=(20,5))\n",
    "    ax[0].imshow(cv2.cvtColor(I, cv2.COLOR_HSV2RGB), vmin=0, vmax=256)\n",
    "    ax[0].set_title('Obraz {} w przestrzeni HSV'.format(title))\n",
    "    ax[0].axis('off')\n",
    "    ax[1].plot(cv2.calcHist([I], [0], None, [256], [0, 256]))\n",
    "    ax[1].set_title('Składowa H')\n",
    "    ax[2].plot(cv2.calcHist([I], [1], None, [256], [0, 256]))\n",
    "    ax[2].set_title('Składowa S')\n",
    "    ax[3].plot(cv2.calcHist([I], [2], None, [256], [0, 256]))\n",
    "    ax[3].set_title('Składowa V')\n",
    "\n",
    "    I[:,:,2] = cv2.equalizeHist(I[:,:,2])\n",
    "\n",
    "    fig, ax = plt.subplots(1,4, figsize=(20,5))\n",
    "    ax[0].imshow(cv2.cvtColor(I, cv2.COLOR_HSV2RGB), vmin=0, vmax=256)\n",
    "    ax[0].set_title('Obraz {} w przestrzeni HSV z\\n wyrównaną składową V'.format(title))\n",
    "    ax[0].axis('off')\n",
    "    ax[1].plot(cv2.calcHist([I], [0], None, [256], [0, 256]))\n",
    "    ax[1].set_title('Składowa H')\n",
    "    ax[2].plot(cv2.calcHist([I], [1], None, [256], [0, 256]))\n",
    "    ax[2].set_title('Składowa S')\n",
    "    ax[3].plot(cv2.calcHist([I], [2], None, [256], [0, 256]))\n",
    "    ax[3].set_title('Składowa V')\n",
    "\n",
    "    plt.show()"
   ]
  },
  {
   "cell_type": "code",
   "execution_count": null,
   "metadata": {
    "pycharm": {
     "name": "#%% Zadanie 4 - HSV histogram\n"
    }
   },
   "outputs": [],
   "source": [
    "last_task(lenaRGB, 'lenaRGB')\n",
    "\n",
    "# Zasadniczą wadą takiego podejścia jest mało kontrolowana zmiana kolorów obrazu."
   ]
  },
  {
   "cell_type": "code",
   "execution_count": null,
   "metadata": {
    "pycharm": {
     "name": "#%%\n"
    }
   },
   "outputs": [],
   "source": [
    "last_task(jezioroRGB, 'jezioroRGB')"
   ]
  }
 ],
 "metadata": {
  "kernelspec": {
   "display_name": "Python 3 (ipykernel)",
   "language": "python",
   "name": "python3"
  },
  "language_info": {
   "codemirror_mode": {
    "name": "ipython",
    "version": 3
   },
   "file_extension": ".py",
   "mimetype": "text/x-python",
   "name": "python",
   "nbconvert_exporter": "python",
   "pygments_lexer": "ipython3",
   "version": "3.9.12"
  }
 },
 "nbformat": 4,
 "nbformat_minor": 4
}