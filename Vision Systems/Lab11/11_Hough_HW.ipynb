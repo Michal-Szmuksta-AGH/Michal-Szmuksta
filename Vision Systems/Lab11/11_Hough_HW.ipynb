{
 "cells": [
  {
   "cell_type": "markdown",
   "metadata": {},
   "source": [
    "### Transformata Hougha w przestrzeni ab - Domowe\n",
    "Przestrzeń ρ,θ nie jest jedyną przestrzenią w której punkt odpowiada parametrom prostej. Np. można spróbować wykorzystać tradycyjne równanie prostej:\n",
    "\n",
    "y=ax+b\n",
    "\n",
    "W tej przestrzeni reprezentacją pęku prostych jest prosta. \n",
    "\n",
    "Zadanie: napisać funkcję, która jako argument przyjmuje obraz (binarny) oraz parametry:\n",
    "\n",
    "- aMin - minimalna wartość parametru a\n",
    "- aMax - maksymalna  wartość parametru a\n",
    "- aSkok - skok parametru a\n",
    "- bMin - minimalna wartość parametru b\n",
    "- bMax  - maksymalna  wartość parametru b\n",
    "- bSkok - skok parametru b\n",
    "Jako wynik ma zwrócić macierz przestrzeni Hougha ab.\n",
    "\n",
    "Uwagi:\n",
    "\n",
    "- zadanie może wyglądać na skomplikowane ale tak naprawdę wymaga tylko starannego przemyślenia\n",
    "- najważniejszy jest problem \"adresowania\" macierzy H. Można do tego wykorzystać dwa wektory A i B ze wszystkimi możliwymi wartościami jakie parametry a i b mogę przyjąć (w podanych zakresach z podanym skokiem). Wówczas indeksy tych wektorów będą współrzędnymi w macierzy H. Do stworzenia wektorów wykorzystaj funkcję _np.arange_\n",
    "- na podstawie rozmiaru wektorów A i B (własność _shape_) należy stworzyć wyzerowaną macierz H (funkcja _np.zeros_) \n",
    "- dla każdego punktu krawędzi na obrazie należy:\n",
    "    - używająć wektora A dla każdej z jego wartości a obliczyć odpowiednią wartość b - indeksy kolejnych wartości a (a_idx) będą jedną z współrzędnych macierzy H, natomiast drugą współrędną mozna uzyskać jako b_idx = np.argmin(abs(B - b)).\n",
    "        - każde a_idx i b_idx wyznaczą punkt w macierzy H, który należy zinkrementować\n",
    "- działanie funkcji należy przetestować na punktach generowanych w 'edytorku' z punktu \"Transformacja Hougha dla małej liczby punktów\". Proponowane parametry funkcji:\n",
    "    - aMin: -5\n",
    "    - aMax:  5\n",
    "    - aSkok: 0.05 \n",
    "    - bMin: -100\n",
    "    - bMax:  100\n",
    "    - bSkok: 1\n",
    "\n",
    "Zastanów się w przypadku jakich prostych reprezentacja ab nie sprawdzi się."
   ]
  },
  {
   "cell_type": "code",
   "execution_count": null,
   "metadata": {},
   "outputs": [],
   "source": [
    "import matplotlib.pyplot as plt\n",
    "import cv2\n",
    "import numpy as np\n",
    "from skimage.transform import hough_line, hough_line_peaks"
   ]
  },
  {
   "cell_type": "code",
   "execution_count": null,
   "metadata": {
    "pycharm": {
     "name": "#%%\n"
    }
   },
   "outputs": [],
   "source": [
    "def show_hough(h, image):\n",
    "    # Generating figure 1\n",
    "    fig, axes = plt.subplots(1, 2, figsize=(15, 6))\n",
    "    ax = axes.ravel()\n",
    "\n",
    "    ax[0].imshow(image, 'gray')\n",
    "    ax[0].set_title('Input image')\n",
    "    ax[0].set_axis_off()\n",
    "\n",
    "    ax[1].imshow(h, 'gray')\n",
    "    ax[1].set_title('Hough transform')\n",
    "    ax[1].set_xlabel('Angles (degrees)')\n",
    "    ax[1].set_ylabel('Distance (pixels)')\n",
    "    ax[1].axis('image')\n",
    "\n",
    "    plt.tight_layout()\n",
    "    plt.show()"
   ]
  },
  {
   "cell_type": "code",
   "execution_count": null,
   "metadata": {
    "pycharm": {
     "name": "#%%\n"
    }
   },
   "outputs": [],
   "source": [
    "def ab_hough(image, aMin, aMax, aSkok, bMin, bMax, bSkok):\n",
    "    A = np.arange(aMin, aMax + 1, aSkok)\n",
    "    B = np.arange(bMin, bMax + 1, bSkok)\n",
    "    H = np.zeros((B.shape[0], A.shape[0]))\n",
    "    X, Y = image.shape\n",
    "    for i_image in range(X):\n",
    "        for j_image in range(Y):\n",
    "            if image[i_image][j_image] == 1:\n",
    "                for i_A, value_A in enumerate(A):\n",
    "                    value_B = i_image - value_A * j_image #b = y - ax\n",
    "                    i_B = np.argmin(np.abs(B - value_B))\n",
    "                    H[i_B][i_A] += 1\n",
    "    return H\n",
    "\n",
    "aMin = -5\n",
    "aMax = 5\n",
    "aSkok = 0.05\n",
    "bMin = -100\n",
    "bMax = 100\n",
    "bSkok = 1"
   ]
  },
  {
   "cell_type": "code",
   "execution_count": null,
   "metadata": {
    "pycharm": {
     "name": "#%%\n"
    }
   },
   "outputs": [],
   "source": [
    "im = np.zeros((64,64), dtype=np.uint8)\n",
    "im[18, 31] = 1\n",
    "\n",
    "show_hough(ab_hough(im, aMin, aMax, aSkok, bMin, bMax, bSkok), im)"
   ]
  },
  {
   "cell_type": "code",
   "execution_count": null,
   "metadata": {
    "pycharm": {
     "name": "#%%\n"
    }
   },
   "outputs": [],
   "source": [
    "im = np.zeros((64,64), dtype=np.uint8)\n",
    "im[18, 31] = 1\n",
    "im[28, 51] = 1\n",
    "\n",
    "show_hough(ab_hough(im, aMin, aMax, aSkok, bMin, bMax, bSkok), im)"
   ]
  },
  {
   "cell_type": "code",
   "execution_count": null,
   "metadata": {
    "pycharm": {
     "name": "#%%\n"
    }
   },
   "outputs": [],
   "source": [
    "im = np.zeros((64,64), dtype=np.uint8)\n",
    "im[18, 31] = 1\n",
    "im[28, 51] = 1\n",
    "im[8, 10] = 1\n",
    "im[13, 20] = 1\n",
    "\n",
    "show_hough(ab_hough(im, aMin, aMax, aSkok, bMin, bMax, bSkok), im)"
   ]
  },
  {
   "cell_type": "code",
   "execution_count": null,
   "metadata": {
    "pycharm": {
     "name": "#%%\n"
    }
   },
   "outputs": [],
   "source": [
    "im = np.zeros((64,64), dtype=np.uint8)\n",
    "im[18, 31] = 1\n",
    "im[28, 51] = 1\n",
    "im[38, 35] = 1\n",
    "\n",
    "show_hough(ab_hough(im, aMin, aMax, aSkok, bMin, bMax, bSkok), im)"
   ]
  },
  {
   "cell_type": "code",
   "execution_count": null,
   "metadata": {
    "pycharm": {
     "name": "#%%\n"
    }
   },
   "outputs": [],
   "source": [
    "im = np.zeros((64,64), dtype=np.uint8)\n",
    "im[32, 0] = 1\n",
    "im[32, 32] = 1\n",
    "im[32, 63] = 1\n",
    "\n",
    "show_hough(ab_hough(im, aMin, aMax, aSkok, bMin, bMax, bSkok), im)"
   ]
  },
  {
   "cell_type": "code",
   "execution_count": null,
   "metadata": {
    "pycharm": {
     "name": "#%%\n"
    }
   },
   "outputs": [],
   "source": [
    "im = np.zeros((64,64), dtype=np.uint8)\n",
    "im[20, 20] = 1\n",
    "im[40, 20] = 1\n",
    "im[20, 40] = 1\n",
    "im[40, 40] = 1\n",
    "\n",
    "show_hough(ab_hough(im, aMin, aMax, aSkok, bMin, bMax, bSkok), im)"
   ]
  },
  {
   "cell_type": "markdown",
   "metadata": {
    "pycharm": {
     "name": "#%% md\n"
    }
   },
   "source": [
    "Reprezentacja ab sprawdzi się w przypadku wszystkich prostych, które są możliwe do zaprezentowania w postaci równania kierunkowego prostej. Ten fakt oznacza jednak, że nie będzie możliwe przy jej pomocy zaprezentowanie prostych pionowych o równaniu x = c, gdzie c to pewna stała. Do tych samych wniosków można również dojść analizując algorytm."
   ]
  }
 ],
 "metadata": {
  "celltoolbar": "Raw Cell Format",
  "kernelspec": {
   "display_name": "Python 3 (ipykernel)",
   "language": "python",
   "name": "python3"
  },
  "language_info": {
   "codemirror_mode": {
    "name": "ipython",
    "version": 3
   },
   "file_extension": ".py",
   "mimetype": "text/x-python",
   "name": "python",
   "nbconvert_exporter": "python",
   "pygments_lexer": "ipython3",
   "version": "3.9.13"
  }
 },
 "nbformat": 4,
 "nbformat_minor": 2
}