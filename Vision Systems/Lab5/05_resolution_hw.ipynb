{
 "cells": [
  {
   "cell_type": "markdown",
   "metadata": {},
   "source": [
    "# Zadanie domowe -- interpolacja dwusześcienna\n",
    "\n",
    "Interpolacja dwusześcienna, to podobnie jak w przypadku interpolacji dwuliniowej, rozszerzenie idei interpolacji jednowymiarowej na dwuwymiarową siatkę.\n",
    "W trakcie jej obliczania wykorzystywane jest 16 pikseli z otoczenia (dla dwuliniowej 4).\n",
    "Skutkuje to zwykle lepszymi wynikami - obraz wyjściowy jest bardziej gładki i z mniejszą liczbą artefaktów.\n",
    "Ceną jest znaczny wzrost złożoności obliczeniowej (zostało to zaobserwowane podczas ćwiczenia).\n",
    "\n",
    "Interpolacja dana jest wzorem:\n",
    "\\begin{equation}\n",
    "I(i,j) = \\sum_{i=0}^{3} \\sum_{j=0}^{3} a_{ij} x^i y^j\n",
    "\\end{equation}\n",
    "\n",
    "Zadanie sprowadza się zatem do wyznaczenia 16 współczynników $a_{ij}$.\n",
    "W tym celu wykorzystuje się, oprócz wartość w~puntach $A$ (0,0), $B$ (1 0), $C$ (1,1), $D$ (0,1) (por. rysunek dotyczący interpolacji dwuliniowej), także pochodne cząstkowe $A_x$, $A_y$, $A_{xy}$.\n",
    "Pozwala to rozwiązać układ 16-tu równań.\n",
    "\n",
    "Jeśli zgrupujemy parametry $a_{ij}$:\n",
    "\\begin{equation}\n",
    "a = [ a_{00}~a_{10}~a_{20}~a_{30}~a_{01}~a_{11}~a_{21}~a_{31}~a_{02}~a_{12}~a_{22}~a_{32}~a_{03}~a_{13}~a_{23}~a_{33}]\n",
    "\\end{equation}\n",
    "\n",
    "i przyjmiemy:\n",
    "\\begin{equation}\n",
    "x = [A~B~D~C~A_x~B_x~D_x~C_x~A_y~B_y~D_y~C_y~A_{xy}~B_{xy}~D_{xy}~C_{xy}]^T\n",
    "\\end{equation}\n",
    "\n",
    "To zagadnienie można opisać w postaci równania liniowego:\n",
    "\\begin{equation}\n",
    "Aa = x\n",
    "\\end{equation}\n",
    "gdzie macierz $A^{-1}$ dana jest wzorem:\n",
    "\n",
    "\\begin{equation}\n",
    "A^{-1} =\n",
    "\\begin{bmatrix}\n",
    "1& 0& 0& 0& 0& 0& 0& 0& 0& 0& 0& 0& 0& 0& 0& 0 \\\\\n",
    "0&  0&  0&  0&  1&  0&  0&  0&  0&  0&  0&  0&  0&  0&  0&  0 \\\\\n",
    "-3&  3&  0&  0& -2& -1&  0&  0&  0&  0&  0&  0&  0&  0&  0&  0 \\\\\n",
    "2& -2&  0&  0&  1&  1&  0&  0&  0&  0&  0&  0&  0&  0&  0&  0 \\\\\n",
    "0&  0&  0&  0&  0&  0&  0&  0&  1&  0&  0&  0&  0&  0&  0&  0 \\\\\n",
    "0&  0&  0&  0&  0&  0&  0&  0&  0&  0&  0&  0&  1&  0&  0&  0 \\\\\n",
    "0&  0&  0&  0&  0&  0&  0&  0& -3&  3&  0&  0& -2& -1&  0&  0 \\\\\n",
    "0&  0&  0&  0&  0&  0&  0&  0&  2& -2&  0&  0&  1&  1&  0&  0 \\\\\n",
    "-3&  0&  3&  0&  0&  0&  0&  0& -2&  0& -1&  0&  0&  0&  0&  0 \\\\\n",
    "0&  0&  0&  0& -3&  0&  3&  0&  0&  0&  0&  0& -2&  0& -1&  0 \\\\\n",
    "9& -9& -9&  9&  6&  3& -6& -3&  6& -6&  3& -3&  4&  2&  2&  1 \\\\\n",
    "-6&  6&  6& -6& -3& -3&  3&  3& -4&  4& -2&  2& -2& -2& -1& -1 \\\\\n",
    "2&  0& -2&  0&  0&  0&  0&  0&  1&  0&  1&  0&  0&  0&  0&  0 \\\\\n",
    "0&  0&  0&  0&  2&  0& -2&  0&  0&  0&  0&  0&  1&  0&  1&  0 \\\\\n",
    "-6&  6&  6& -6& -4& -2&  4&  2& -3&  3& -3&  3& -2& -1& -2& -1 \\\\\n",
    "4& -4& -4&  4&  2&  2& -2& -2&  2& -2&  2& -2&  1&  1&  1&  1 \\\\\n",
    "\\end{bmatrix}\n",
    "\\end{equation}\n",
    "\n",
    "Potrzebne w rozważaniach pochodne cząstkowe obliczane są wg. następującego przybliżenia (przykład dla punktu A):\n",
    "\\begin{equation}\n",
    "A_x = \\frac{I(i+1,j) - I(i-1,j)}{2}\n",
    "\\end{equation}\n",
    "\\begin{equation}\n",
    "A_y = \\frac{I(i,j+1) - I(i,j-1)}{2}\n",
    "\\end{equation}\n",
    "\\begin{equation}\n",
    "A_xy = \\frac{I(i+1,j+1) - I(i-1,j) - I(i,j-1) + I(i,j)}{4}\n",
    "\\end{equation}\n",
    "\n",
    "## Zadanie\n",
    "\n",
    "Wykorzystując podane informacje zaimplementuj interpolację dwusześcienną.\n",
    "Uwagi:\n",
    "- macierz $A^{-1}$ dostępna jest w pliku *a_invert.py*\n",
    "- trzeba się zastanowić nad potencjalnym wykraczaniem poza zakres obrazka (jak zwykle).\n",
    "\n",
    "Ponadto dokonaj porównania liczby operacji arytmetycznych i dostępów do pamięci koniecznych przy realizacji obu metod interpolacji: dwuliniowej i dwusześciennej."
   ]
  },
  {
   "cell_type": "code",
   "execution_count": null,
   "metadata": {
    "pycharm": {
     "name": "#%%\n"
    }
   },
   "outputs": [],
   "source": [
    "import numpy as np\n",
    "import cv2\n",
    "import os\n",
    "from matplotlib import pyplot as plt\n",
    "import warnings\n",
    "%load_ext memory_profiler\n",
    "\n",
    "warnings.filterwarnings(\"ignore\")\n",
    "\n",
    "if not os.path.exists(\"parrot.bmp\") :\n",
    "    !wget https://raw.githubusercontent.com/vision-agh/poc_sw/master/05_Resolution/parrot.bmp --no-check-certificate\n",
    "parrot = cv2.imread('parrot.bmp', cv2.COLOR_BGR2GRAY)\n",
    "\n",
    "A_invert = np.array([\n",
    "[1, 0, 0, 0, 0, 0, 0, 0, 0, 0, 0, 0, 0, 0, 0, 0],\n",
    "[0,  0,  0,  0,  1,  0,  0,  0,  0,  0,  0,  0,  0,  0,  0,  0],\n",
    "[-3,  3,  0,  0, -2, -1,  0,  0,  0,  0,  0,  0,  0,  0,  0,  0],\n",
    "[2, -2,  0,  0,  1,  1,  0,  0,  0,  0,  0,  0,  0,  0,  0,  0],\n",
    "[0,  0,  0,  0,  0,  0,  0,  0,  1,  0,  0,  0,  0,  0,  0,  0],\n",
    "[0,  0,  0,  0,  0,  0,  0,  0,  0,  0,  0,  0,  1,  0,  0,  0],\n",
    "[0,  0,  0,  0,  0,  0,  0,  0, -3,  3,  0,  0, -2, -1,  0,  0],\n",
    "[0,  0,  0,  0,  0,  0,  0,  0,  2, -2,  0,  0,  1,  1,  0,  0],\n",
    "[-3,  0,  3,  0,  0,  0,  0,  0, -2,  0, -1,  0,  0,  0,  0,  0],\n",
    "[0,  0,  0,  0, -3,  0,  3,  0,  0,  0,  0,  0, -2,  0, -1,  0],\n",
    "[9, -9, -9,  9,  6,  3, -6, -3,  6, -6,  3, -3,  4,  2,  2,  1],\n",
    "[-6,  6,  6, -6, -3, -3,  3,  3, -4,  4, -2,  2, -2, -2, -1, -1],\n",
    "[2,  0, -2,  0,  0,  0,  0,  0,  1,  0,  1,  0,  0,  0,  0,  0],\n",
    "[0,  0,  0,  0,  2,  0, -2,  0,  0,  0,  0,  0,  1,  0,  1,  0],\n",
    "[-6,  6,  6, -6, -4, -2,  4,  2, -3,  3, -3,  3, -2, -1, -2, -1],\n",
    "[4, -4, -4,  4,  2,  2, -2, -2,  2, -2,  2, -2,  1,  1,  1,  1],\n",
    "])"
   ]
  },
  {
   "cell_type": "code",
   "execution_count": null,
   "metadata": {
    "pycharm": {
     "name": "#%%\n"
    }
   },
   "outputs": [],
   "source": [
    "def bilinear_interpolation(image, scale_x, scale_y):\n",
    "    X, Y = image.shape\n",
    "    new_X, new_Y = int(np.round(X*scale_x)), int(np.round(Y*scale_y))\n",
    "    new_image = np.zeros((new_X, new_Y))\n",
    "    for i in range(new_X):\n",
    "        for j in range(new_Y):\n",
    "            i1 = int(np.floor(i / scale_x))\n",
    "            j1 = int(np.floor(j / scale_y))\n",
    "            i2 = i1 + 1\n",
    "            j2 = j1 + 1\n",
    "            if i2 > X - 1:\n",
    "                i1 = X - 1\n",
    "                i2 = i1 - 1\n",
    "            if j2 > Y - 1:\n",
    "                j1 = Y - 1\n",
    "                j2 = j1 - 1\n",
    "            ipom = i / scale_x - i1\n",
    "            jpom = j / scale_y - j1\n",
    "            A = image[i1][j1]\n",
    "            B = image[i2][j1]\n",
    "            C = image[i2][j2]\n",
    "            D = image[i1][j2]\n",
    "            ABCD = A * (1 - ipom) * (1 - jpom) + B * ipom * (1 - jpom) + C * ipom * jpom + D * jpom * (1 - ipom)\n",
    "            new_image[i][j] = int(np.round(ABCD))\n",
    "    plt.figure(figsize=(new_image.shape[0]/100,new_image.shape[1]/100), dpi=200)\n",
    "    plt.imshow(new_image, cmap =\"gray\")\n",
    "    plt.axis('off')\n",
    "    plt.show()"
   ]
  },
  {
   "cell_type": "code",
   "execution_count": null,
   "metadata": {
    "pycharm": {
     "name": "#%%\n"
    }
   },
   "outputs": [],
   "source": [
    "def bicubic_interpolation(image, scale_x, scale_y):\n",
    "    X, Y = image.shape\n",
    "    new_X, new_Y = int(np.round(X * scale_x)), int(np.round(Y * scale_y))\n",
    "    new_image = np.zeros((new_X, new_Y))\n",
    "\n",
    "    for i in range(0, new_X):\n",
    "        for j in range(0, new_Y):\n",
    "            i1 = int(np.floor(i / scale_x))\n",
    "            j1 = int(np.floor(j / scale_y))\n",
    "            i2 = i1 + 1\n",
    "            j2 = j1 + 1\n",
    "\n",
    "            if i2 > X - 2:\n",
    "                i1 = X - 2\n",
    "                i2 = i1 - 2\n",
    "\n",
    "            if j2 > Y - 2:\n",
    "                j1 = Y - 2\n",
    "                j2 = j1 - 2\n",
    "\n",
    "\n",
    "            ipom = i / scale_x - i1\n",
    "            jpom = j / scale_y - j1\n",
    "\n",
    "            A = image[i1][j1]\n",
    "            B = image[i2][j1]\n",
    "            C = image[i2][j2]\n",
    "            D = image[i1][j2]\n",
    "\n",
    "            Ax = (image[i1 + 1][j1] - image[i1 - 1][j1])/2\n",
    "            Bx = (image[i2 + 1][j1] - image[i2 - 1][j1])/2\n",
    "            Cx = (image[i2 + 1][j2] - image[i2 - 1][j2])/2\n",
    "            Dx = (image[i1 + 1][j2] - image[i1 - 1][j2])/2\n",
    "\n",
    "            Ay = (image[i1][j1 + 1] - image[i1][j1 - 1])/2\n",
    "            By = (image[i2][j1 + 1] - image[i2][j1 - 1])/2\n",
    "            Cy = (image[i2][j2 + 1] - image[i2][j2 - 1])/2\n",
    "            Dy = (image[i1][j2 + 1] - image[i1][j2 - 1])/2\n",
    "\n",
    "            Axy = (image[i1 + 1][j1 + 1] - image[i1 - 1][j1] - image[i1][j1 - 1] + image[i1][j1])/4\n",
    "            Bxy = (image[i2 + 1][j1 + 1] - image[i2 - 1][j1] - image[i2][j1 - 1] + image[i2][j1])/4\n",
    "            Cxy = (image[i2 + 1][j2 + 1] - image[i2 - 1][j2] - image[i2][j2 - 1] + image[i2][j2])/4\n",
    "            Dxy = (image[i1 + 1][j2 + 1] - image[i1 - 1][j2] - image[i1][j2 - 1] + image[i1][j2])/4\n",
    "\n",
    "            x = np.transpose(np.array([A,B,D,C,Ax,Bx,Dx,Cx,Ay,By,Dy,Cy,Axy,Bxy,Dxy,Cxy]))\n",
    "            a = np.dot(A_invert,x)\n",
    "            a = a.reshape((4,4),order='F')\n",
    "            ABCD = 0\n",
    "\n",
    "            for iq in range(4):\n",
    "                for jq in range(4):\n",
    "                    ABCD += a[iq][jq] * (ipom ** iq) * (jpom ** jq)\n",
    "            new_image[i][j] = int(np.round(ABCD))\n",
    "\n",
    "    plt.figure(figsize=(new_image.shape[0] / 100, new_image.shape[1] / 100), dpi=200)\n",
    "    plt.imshow(new_image, cmap=\"gray\")\n",
    "    plt.axis('off')\n",
    "    plt.show()"
   ]
  },
  {
   "cell_type": "code",
   "execution_count": null,
   "metadata": {
    "pycharm": {
     "name": "#%%\n"
    }
   },
   "outputs": [],
   "source": [
    "%%capture\n",
    "t1 = %timeit -o bilinear_interpolation(parrot, 2.5, 2.5)\n",
    "m1 = %mprun -o bilinear_interpolation(parrot, 2.5, 2.5)\n",
    "t2 = %timeit -o bicubic_interpolation(parrot, 2.5, 2.5)\n",
    "m2 = %mprun -o bicubic_interpolation(parrot, 2.5, 2.5)"
   ]
  },
  {
   "cell_type": "code",
   "execution_count": null,
   "metadata": {
    "pycharm": {
     "name": "#%%\n"
    }
   },
   "outputs": [],
   "source": [
    "bilinear_interpolation(parrot, 2.5, 2.5)\n",
    "print('Interpolacja dwuliniowa - czas niezbędny do obliczeń:',t1)\n",
    "print('Pamięć zużywana przez interpolację dwuliniową:', m1)\n",
    "bicubic_interpolation(parrot, 2.5, 2.5)\n",
    "print('Interpolacja dwusześcienna - czas niezbędny do obliczeń',t2)\n",
    "print('Pamięć zużywana przez interpolację dwusześcienną:', m2)"
   ]
  },
  {
   "cell_type": "markdown",
   "metadata": {
    "pycharm": {
     "name": "#%% md\n"
    }
   },
   "source": [
    "W powyższej implementacji interpolacja dwuliniowa jest praktycznie około 400 razy szybsza od interpolacji dwusześciennej. Zużycie pamięci jest za to na podobnym poziomie. W implementacji interpolacji dwusześciennej niestety zapodział się błąd z uwagi na występujące widoczne granice między obszarami interpolacji oraz zaciemnianie obrazu przez funkcję gdy obecne są warunki na wyjście poza zakres."
   ]
  },
  {
   "cell_type": "code",
   "execution_count": null,
   "metadata": {
    "pycharm": {
     "name": "#%%\n"
    }
   },
   "outputs": [],
   "source": []
  }
 ],
 "metadata": {
  "kernelspec": {
   "display_name": "Python 3 (ipykernel)",
   "language": "python",
   "name": "python3"
  },
  "language_info": {
   "codemirror_mode": {
    "name": "ipython",
    "version": 3
   },
   "file_extension": ".py",
   "mimetype": "text/x-python",
   "name": "python",
   "nbconvert_exporter": "python",
   "pygments_lexer": "ipython3",
   "version": "3.9.12"
  }
 },
 "nbformat": 4,
 "nbformat_minor": 4
}