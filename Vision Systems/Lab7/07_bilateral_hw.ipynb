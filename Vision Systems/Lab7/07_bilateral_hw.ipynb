{
 "cells": [
  {
   "cell_type": "markdown",
   "metadata": {
    "collapsed": true,
    "pycharm": {
     "name": "#%% md\n"
    }
   },
   "source": [
    "# Filtracja Non-Local Means\n",
    "\n",
    "## Definicja\n",
    "\n",
    "Kolejny \"poziom wtajemniczenia\" w zagadnienie filtracji obrazów to metoda Non-Local Means (NLM).\n",
    "Została ona zaproponowana w pracy *\"A non-local algorithm for image denoising\"* (autorzy: Antoni Buades, Bartomeu Coll i Jean Michel Morel) na konferencji CVPR w 2005 roku.\n",
    "\n",
    "Filtr NLM dany jest zależnością:\n",
    "\n",
    "\\begin{equation}\n",
    "\\hat{I}(\\mathbf{x}) = \\sum_{\\mathbf{p} \\in V(\\mathbf{x})} w(\\mathbf{p},\\mathbf{x})I(\\mathbf{p})\n",
    "\\tag{1}\n",
    "\\end{equation}\n",
    "\n",
    "gdzie:\n",
    "- $I$ - obraz wejściowy,\n",
    "- $\\hat{I}$ - obraz wyjściowy (przefiltrowany),\n",
    "- $\\mathbf{x}$ - współrzędne piksela obrazu,\n",
    "- $V(\\mathbf{x})$ - obszar poszukiwań piksela, dla którego przeprowadzana jest filtracja,\n",
    "- $w$ - waga punktu $\\mathbf{p}$ z obszaru poszukiwań.\n",
    "\n",
    "Wróćmy na chwilę do filtracji bilateralnej. Tam waga danego piksela z kontekstu zależała od dwóch czynników - odległości przestrzennej pomiędzy pikselami oraz różnicy w jasności/kolorze pomiędzy pikselami (tzw. przeciwdziedzina).\n",
    "Filtr NLM stanowi uogólnienie tej metody - do obliczania wag nie wykorzystuje się już pojedynczych pikseli ($\\mathbf{p}$ i $\\mathbf{x}$), a lokalne konteksty ($N(\\mathbf{p})$ i $N(\\mathbf{x})$).\n",
    "\n",
    "Waga $w$ dana jest następującą zależnością:\n",
    "\n",
    "\\begin{equation}\n",
    "w(\\mathbf{p},\\mathbf{x}) = \\frac{1}{Z(\\mathbf{x})}\\exp(-\\frac{|| v(N(\\mathbf{p})) - v(N(\\mathbf{x})) ||^2_{2}}{\\alpha \\sigma^2})\n",
    "\\tag{2}\n",
    "\\end{equation}\n",
    "\n",
    "gdzie:\n",
    "\\begin{equation}\n",
    "Z(\\mathbf{x}) = \\sum_{\\mathbf{p} \\in V(\\mathbf{x})} \\exp(-\\frac{|| v(N(\\mathbf{p})) - v(N(\\mathbf{x})) ||^2_{2}}{\\alpha \\sigma^2})\n",
    "\\tag{3}\n",
    "\\end{equation}\n",
    "\n",
    "- $|| \\cdot ||$ - jest normą $L_2$ odległości pomiędzy dwoma kontekstami,\n",
    "- $v$ oznacza mnożenie punktowe kontekstu $N$ przez dwuwymiarową maskę Gaussa o odpowiadających kontekstowi wymiarach,\n",
    "- $\\alpha$ > 0 - parametr sterujący filtracją,\n",
    "- $\\sigma$ - parametr szumu stacjonarnego występującego na obrazie (w przypadku szumu niestacjonarnego, parametr $\\sigma$ musi zostać dopasowany lokalnie tj. $\\sigma = \\sigma(\\mathbf{x})$)."
   ]
  },
  {
   "cell_type": "markdown",
   "metadata": {},
   "source": [
    "## Analiza działania\n",
    "\n",
    "Zastanówmy sie teraz jak działa filtra NLM. Najprościej to zrozumieć na rysunku.\n",
    "\n",
    "![Ilustracja NLM](https://raw.githubusercontent.com/vision-agh/poc_sw/master/07_Bilateral/nlm.png)\n",
    "\n",
    "1. Dla rozważanego piksela $\\mathbf{x}$ definiujemy obszar poszukiwań $V(\\mathbf{x})$. Uwaga - obszar poszukiwań ($V$) jest jednostką większą niż otocznie/kontekst ($N$).\n",
    "\n",
    "2. Następnie, dla każdego z pikseli $\\mathbf{p} \\in  V(\\mathbf{x})$ oraz samego $\\mathbf{x}$ definiujemy otocznie/kontekst odpowiednio $N(\\mathbf{p})$ i $N(\\mathbf{x})$.\n",
    "\n",
    "3. Wracamy do równania definiującego wagę  $w(\\mathbf{p},\\mathbf{x})$, a konkretnie do wyrażenia $|| v(N(\\mathbf{p})) - v(N(\\mathbf{x})) ||$. Przeanalizujmy co ono oznacza. Mamy dwa otoczenia: $N(\\mathbf{p})$ i $N(\\mathbf{x})$. Każde z nich mnożymy przez odpowiadającą maskę Gaussa - funkcja $v$. Otrzymujemy dwie macierze, które odejmujemy od siebie punktowo. Następnie obliczamy kwadrat z normy ($L_2$ definiujemy jako $||X||_2 = \\sqrt{\\sum_k|X_k|^2}$. Otrzymujemy zatem jedną liczbę, która opisuje nam podobieństwo otoczeń pikseli $\\mathbf{x}$ i $\\mathbf{p}$. Mała wartość oznacza otoczenia zbliżone, duża - różniące się. Ponieważ, z dokładnością do stałych, liczba ta stanowi wykładnik funkcji $e^{-x}$, to ostatecznie waga jest zbliżona do 1 dla otoczeń podobnych, a szybko maleje wraz z malejącym podobieństwem kontekstów.\n",
    "\n",
    "4. Podsumowując: jak wynika z powyższej analizy filtr NLM to taki filtr bilateralny, w którym zamiast pojedynczych pikseli porównuje się ich lokalne otoczenia. Wpływa to pozytywnie na jakość filtracji, niestety kosztem złożoności obliczeniowej."
   ]
  },
  {
   "cell_type": "markdown",
   "metadata": {
    "pycharm": {
     "name": "#%% md\n"
    }
   },
   "source": [
    "## Implementacja\n",
    "\n",
    "W ramach zadania należy zaimplementować filtr NLM, ocenić jego działanie w porównaniu do filtra Gaussa i bilateralnego oraz dokonać pomiaru czasu obliczeń (dla trzech wymienionych metod).\n",
    "\n",
    "Jak już się zrozumie jak działa NLM, jego implementacja jest dość prosta.\n",
    "Wartość parametru $\\alpha$ należy dobrać eksperymentalnie.\n",
    "Nie należy także \"przesadzić\" z rozmiarem obszaru poszukiwań (np. 11x11) oraz kontekstu (5x5 lub 3x3).\n",
    "\n",
    "Wskazówki do implementacji:\n",
    "- algorytm sprowadza się do dwóch podwójnych pętli for: zewnętrzne po pikselach, wewnętrzne po kolejnych obszarach przeszukań,\n",
    "- przed realizacją trzeba przemyśleć problem pikseli brzegowych - de facto problemów jest kilka. Po pierwsze nie dla każdego piksela można wyznaczyć pełny obszar przeszukań (tu propozycja, aby filtrację przeprowadzać tylko dla pikseli z pełnym obszarem). Po drugie, ponieważ rozpatrujemy konteksty, to nawet dla piksela o \"pełnym\" obszarze przeszukań, będą istnieć piksele, dla których nie pełnych kontekstów (sugestia - powiększyć obszar przeszukać, tak aby zawierał konteksty). Ostatni problem jest bardziej techniczny/implementacyjny. Jeśli w kolejnych iteracjach \"jawnie\" wytniemy fragment o rozmiarach obszaru przeszukiwań, to znowu pojawi się problem brzegowy - tu można albo wyciąć nieco większy obszar, albo cały czas \"pracować\" na obrazie oryginalnym (\"żonglerka indeksami\").\n",
    "- warto sprawdzać indeksy i rozmiary \"wycinanych\" kontekstów,\n",
    "- wagi wyliczamy w trzech krokach:\n",
    "    - obliczenia dla $N(\\mathbf{x})$ + inicjalizacja macierzy na wagi,\n",
    "    - podwójna pętla, w której przeprowadzamy obliczenia dla kolejnych $N(\\mathbf{p})$ oraz wyliczamy wagi,\n",
    "    - normalizacja macierzy wag oraz końcowa filtracja obszaru w wykorzystaniem wag.\n",
    "- uwaga, obliczenia trochę trwają, nawet dla obrazka 256x256 i względnie niewielkich obszaru przeszukań i kontesktu.\n",
    "\n",
    "Efekt końcowy:\n",
    "- porównanie wyników metod: filtr Gaussa, filtr bilateralny oraz filtr NLM (2-3 zdania komentarza),\n",
    "- porównanie czasu działania powyższych metod (1 zdanie komentarza).\n"
   ]
  },
  {
   "cell_type": "code",
   "execution_count": null,
   "metadata": {
    "pycharm": {
     "name": "#%%\n"
    }
   },
   "outputs": [],
   "source": [
    "from matplotlib import pyplot as plt\n",
    "import numpy as np\n",
    "from scipy.io import loadmat\n",
    "import math\n",
    "import os\n",
    "\n",
    "if not os.path.exists(\"MR_data.mat\") :\n",
    "    !wget https://raw.githubusercontent.com/vision-agh/poc_sw/master/07_Bilateral/MR_data.mat --no-check-certificate\n",
    "\n",
    "mat = loadmat('MR_data.mat')\n",
    "Input = mat['I_noisy2']\n",
    "\n",
    "def fgaussian(size, sigma):\n",
    "     m = n = size\n",
    "     h, k = m//2, n//2\n",
    "     x, y = np.mgrid[-h:h+1, -k:k+1]\n",
    "     g = np.exp(-(x**2 + y**2)/(2*sigma**2))\n",
    "     return g\n",
    "\n",
    "\n",
    "def non_local_means_convulsion(Input, V_size, N_size, alpha, sigma):\n",
    "    IConv = Input.copy()\n",
    "    v = fgaussian(N_size, sigma)\n",
    "    v = v / np.sum(v)\n",
    "    X, Y = Input.shape\n",
    "    for i in range(int(V_size / 2) + int(N_size / 2), X - int(V_size / 2) - int(N_size / 2)):\n",
    "        for j in range(int(V_size / 2) + int(N_size / 2), Y - int(V_size / 2) - int(N_size / 2)):\n",
    "            V = Input[i - int(V_size / 2): i + int(V_size / 2) + 1, j - int(V_size / 2): j + int(V_size / 2) + 1]\n",
    "            W = np.zeros(V.shape)\n",
    "            V_help = Input[i - int(V_size / 2) - int(N_size / 2): i + int(V_size / 2) + int(N_size / 2) + 1,\n",
    "                     j - int(V_size / 2) - int(N_size / 2): j + int(V_size / 2) + 1 + int(N_size / 2)]\n",
    "            N_x = Input[i - int(N_size / 2): i + int(N_size / 2) + 1, j - int(N_size / 2): j + int(N_size / 2) + 1]\n",
    "            N_x_times_v = np.multiply(N_x, v)\n",
    "            Z = 0\n",
    "            for i_inside in range(int(N_size/2), V_size - int(N_size/2)):\n",
    "                for j_inside in range(int(N_size/2), V_size - int(N_size/2)):\n",
    "                    N_p = V_help[i_inside - int(N_size/2): i_inside + int(N_size/2) + 1, j_inside - int(N_size/2): j_inside + int(N_size/2) + 1]\n",
    "                    N_p_times_v = np.multiply(N_p, v)\n",
    "                    difference = N_p_times_v - N_x_times_v\n",
    "                    w = np.sqrt(np.sum(np.power(difference, 2)))\n",
    "                    w = np.exp(- np.power(w, 2) / (alpha * sigma ** 2))\n",
    "                    W[i_inside - int(N_size/2) , j_inside - int(N_size/2)] = w\n",
    "                    Z += w\n",
    "            W = W / Z\n",
    "            IConv[i,j] = np.sum(np.multiply(W, V))\n",
    "\n",
    "    return IConv"
   ]
  },
  {
   "cell_type": "code",
   "execution_count": null,
   "metadata": {
    "pycharm": {
     "name": "#%%\n"
    }
   },
   "outputs": [],
   "source": [
    "def new_pixel_color_1(surr, fil):\n",
    "    return np.sum(np.multiply(fil,surr))/np.sum(fil) # Korzystam z faktu, że splot sygnałów w postaci macierzy to suma iloczynu wartości macierzy wejściowych\n",
    "\n",
    "def classical_convulsion(Input, size, sigma_s):\n",
    "    IConv = Input.copy()\n",
    "    X, Y = Input.shape\n",
    "    fil = fgaussian(size, sigma_s)\n",
    "\n",
    "    for i in range(int(size/2),X-int(size/2)):\n",
    "        for j in range(int(size/2),Y-int(size/2)):\n",
    "            surrounding = Input[i-int(size/2):i+int(size/2)+1,j-int(size/2):j+int(size/2)+1]\n",
    "            IConv[i][j] = new_pixel_color_1(surrounding, fil)\n",
    "\n",
    "    return IConv\n",
    "\n",
    "def gamma(y, sigma_r):\n",
    "    return np.exp(- np.multiply(y,y) / (2 * np.multiply(sigma_r,sigma_r)))\n",
    "\n",
    "def new_pixel_color_2(surr, fil, sigma_r):\n",
    "    gam = gamma(np.abs(surr - np.take(surr, surr.size // 2)), sigma_r)\n",
    "    new_fil = np.multiply(fil,gam)\n",
    "    return np.sum(np.multiply(new_fil,surr)/np.sum(new_fil))\n",
    "\n",
    "def bilateral_convulsion(Input, size, sigma_s, sigma_r):\n",
    "    IConv = Input.copy()\n",
    "    X, Y = Input.shape\n",
    "    fil = fgaussian(size, sigma_s)\n",
    "\n",
    "    for i in range(int(size/2),X-int(size/2)):\n",
    "        for j in range(int(size/2),Y-int(size/2)):\n",
    "            surrounding = Input[i-int(size/2):i+int(size/2)+1,j-int(size/2):j+int(size/2)+1]\n",
    "            IConv[i][j] = new_pixel_color_2(surrounding, fil, sigma_r)\n",
    "\n",
    "    return IConv"
   ]
  },
  {
   "cell_type": "code",
   "execution_count": null,
   "metadata": {
    "pycharm": {
     "name": "#%%\n"
    }
   },
   "outputs": [],
   "source": [
    "from timeit import default_timer as timer\n",
    "\n",
    "start = timer()\n",
    "classical = classical_convulsion(Input, 11, 2)\n",
    "end = timer()\n",
    "print('Czas wykonywania algorytmu klasycznej konwolucji: ', end - start)\n",
    "start = timer()\n",
    "bilateral = bilateral_convulsion(Input, 11, 2, 20)\n",
    "end = timer()\n",
    "print('Czas wykonywania algorytmu konwolucji bilateralnej: ', end - start)\n",
    "start = timer()\n",
    "non_local_means = non_local_means_convulsion(Input, 11, 5, 10, 2)\n",
    "end = timer()\n",
    "print('Czas wykonywania algorytmu konwolucji Non-Local Means: ', end - start)\n",
    "\n",
    "fig, ax = plt.subplots(2,2, figsize=(20,20))\n",
    "ax[0][0].imshow(Input, 'gray')\n",
    "ax[0][0].axis('off')\n",
    "ax[0][0].set_title('Obraz oryginalny')\n",
    "ax[0][1].imshow(classical, 'gray')\n",
    "ax[0][1].axis('off')\n",
    "ax[0][1].set_title('Obraz po klasycznej konwolucji')\n",
    "ax[1][0].imshow(bilateral, 'gray')\n",
    "ax[1][0].axis('off')\n",
    "ax[1][0].set_title('Obraz po konwolucji bilateralnej')\n",
    "ax[1][1].imshow(non_local_means, 'gray')\n",
    "ax[1][1].axis('off')\n",
    "ax[1][1].set_title('Obraz po konwolucji Non-Local Means')\n",
    "plt.show()"
   ]
  },
  {
   "cell_type": "markdown",
   "metadata": {
    "pycharm": {
     "name": "#%% md\n"
    }
   },
   "source": [
    "Jak widać, najgorsze efekty daje filtracja z użyciem filtra Gaussa, która w tym przypadku zbyt mocno rozmywa obraz, sprawiając, że krawędzie i szczegóły są słabo widoczne. Filtracja bilateralna spisuje się dobrze jedynie w obrębie jednego najmniej zaszumionego obszaru obrazu. Najlepsze efekty daje filtracja z użyciem metody Non-Local-Means, powodując usunięcie szumów praktycznie na całym obrazie. Dodatkowo krawędzie i szczegóły stają się bardziej widoczne.\n",
    "\n",
    "Jakość zdjęcia po filtracji jest niestety w tym przypadku proporcjonalna do czasu działania algorytmu filtrującego. Konwolucja biliteralna zajmuje ponad dwa razu dłużej od filtracji Gaussa, a filtracja przy użyciu algorytmu Non-Local Means jest aż ponad 25 razy dłuższa od filtracji biliteralnej."
   ]
  },
  {
   "cell_type": "code",
   "execution_count": null,
   "metadata": {
    "pycharm": {
     "name": "#%%\n"
    }
   },
   "outputs": [],
   "source": []
  }
 ],
 "metadata": {
  "kernelspec": {
   "display_name": "Python 3 (ipykernel)",
   "language": "python",
   "name": "python3"
  },
  "language_info": {
   "codemirror_mode": {
    "name": "ipython",
    "version": 3
   },
   "file_extension": ".py",
   "mimetype": "text/x-python",
   "name": "python",
   "nbconvert_exporter": "python",
   "pygments_lexer": "ipython3",
   "version": "3.9.12"
  }
 },
 "nbformat": 4,
 "nbformat_minor": 1
}