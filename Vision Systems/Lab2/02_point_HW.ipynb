{
 "cells": [
  {
   "cell_type": "markdown",
   "metadata": {},
   "source": [
    "# Zadanie domowe\n",
    "\n",
    "W przypadku obrazów w odcieniach szarości pojedynczy piksel z zakresu [0; 255] reprezentowany jest jako 8-bitowa liczba bez znaku.\n",
    "Pewnym rozszerzeniem analizy sposobu reprezentacji obrazu może być następujący eksperyment.\n",
    "Załóżmy, że z każdego z 8 bitów możemy stworzyć pojedynczy obraz binarny (ang. _bit-plane slicing_).\n",
    "Dla obrazka _100zloty.jpg_ (https://raw.githubusercontent.com/vision-agh/poc_sw/master/02_Point/100zloty.jpg) stwórz 8 obrazów, z których każdy powinien zawierać jedną płaszczyznę bitową.\n",
    "Podpowiedź $-$ warto sprawdzić, jak realizuje się bitowe operacje logiczne.\n",
    "Zastosowanie takiej dekompozycji obrazu pozwala na analizę ,,ważności'' poszczególnych bitów.\n",
    "Jest to użyteczne w kwantyzacji, ale także w kompresji.\n",
    "\n",
    "W drugim etapie zadania proszę spróbować odtworzyć obraz oryginalny z mniejszej liczby obrazów binarnych.\n",
    "Warto zacząć od dwóch najbardziej znaczących bitów, a później dodawać kolejne.\n",
    "Należy utworzyć co najmniej trzy wersje zrekonstruowanych obrazów.\n",
    "Podpowiedź $-$ rekonstrukcja obrazu to mnożenie przez odpowiednią potęgę liczby 2 (przesunięcie bitowe) oraz dodawanie."
   ]
  },
  {
   "cell_type": "code",
   "execution_count": null,
   "metadata": {
    "pycharm": {
     "name": "#%%\n"
    }
   },
   "outputs": [],
   "source": [
    "import cv2\n",
    "import numpy as np\n",
    "import matplotlib.pyplot as plt\n",
    "import os\n",
    "from copy import copy\n",
    "\n",
    "def show(picture, title = 0):\n",
    "    plt.imshow(picture)\n",
    "    plt.xticks([]), plt.yticks([])\n",
    "    if title != 0:\n",
    "        plt.title(title)\n",
    "    plt.show()\n",
    "\n",
    "if not os.path.exists(\"100zloty.jpg\") :\n",
    "    !wget https://raw.githubusercontent.com/vision-agh/poc_sw/master/02_Point/100zloty.jpg\n",
    "zloty = cv2.imread(\"100zloty.jpg\")\n",
    "zloty = cv2.cvtColor(zloty, cv2.COLOR_RGB2GRAY)\n",
    "show(zloty)"
   ]
  },
  {
   "cell_type": "code",
   "execution_count": null,
   "metadata": {
    "pycharm": {
     "name": "#%%\n"
    }
   },
   "outputs": [],
   "source": [
    "def kth_bit(x, k):\n",
    "    y = np.binary_repr(x,width=8)\n",
    "    return int(y[k-1])\n",
    "\n",
    "def kth_bit_map(photo, k):\n",
    "    new_photo = copy(photo)\n",
    "    for i, row in enumerate(new_photo):\n",
    "        for j, col in enumerate(row):\n",
    "            new_photo[i][j] = kth_bit(col, k)\n",
    "    return new_photo.astype('bool').astype('uint8')"
   ]
  },
  {
   "cell_type": "code",
   "execution_count": null,
   "metadata": {
    "pycharm": {
     "name": "#%%\n"
    }
   },
   "outputs": [],
   "source": [
    "bool_maps = []\n",
    "for k in range (1, 9):\n",
    "    x = kth_bit_map(zloty, k)\n",
    "    bool_maps.append(x)\n",
    "    show(x, str(k) + ' bit znaczący')"
   ]
  },
  {
   "cell_type": "code",
   "execution_count": null,
   "metadata": {},
   "outputs": [],
   "source": [
    "uint8_maps = []\n",
    "for map, k in zip(bool_maps, range(1,9)):\n",
    "    x = copy(bool_maps[k-1]) * 2 ** (8 - k)\n",
    "    uint8_maps.append(x)\n",
    "\n",
    "show(uint8_maps[0] + uint8_maps[1], 'Rekonstrukcja z pierwszych 2 bitów znaczących')\n",
    "show(uint8_maps[0] + uint8_maps[1] + uint8_maps[2], 'Rekonstrukcja z pierwszych 3 bitów znaczących')\n",
    "show(uint8_maps[0] + uint8_maps[1] + uint8_maps[2] + uint8_maps[3], 'Rekonstrukcja z pierwszych 4 bitów znaczących')\n",
    "show(uint8_maps[0] + uint8_maps[1] + uint8_maps[2] + uint8_maps[3] + uint8_maps[4], 'Rekonstrukcja z pierwszych 5 bitów znaczących')"
   ]
  },
  {
   "cell_type": "markdown",
   "metadata": {
    "pycharm": {
     "name": "#%% md\n"
    }
   },
   "source": [
    "Powyższe przykłady pokazują, że impakt danej płaszczyzny binarnej na obraz zrekonstruowany zmniejsza się wraz z zmniejszaniem się znaczenia bitu, któremu odpowiada. Na pierwszy rzut oka rekonstrukcja z użyciem pierwszych 4 płaszczyzn nie różni się praktycznie w ogóle od rekonstrukcji z użyciem pierwszych 5 płaszczyzn co świadczy o małym znaczeniu warstw odpowiadającym 5,6,7 i 8 bitowi."
   ]
  },
  {
   "cell_type": "code",
   "execution_count": null,
   "metadata": {
    "pycharm": {
     "name": "#%%\n"
    }
   },
   "outputs": [],
   "source": []
  }
 ],
 "metadata": {
  "kernelspec": {
   "display_name": "Python 3 (ipykernel)",
   "language": "python",
   "name": "python3"
  },
  "language_info": {
   "codemirror_mode": {
    "name": "ipython",
    "version": 3
   },
   "file_extension": ".py",
   "mimetype": "text/x-python",
   "name": "python",
   "nbconvert_exporter": "python",
   "pygments_lexer": "ipython3",
   "version": "3.9.5"
  }
 },
 "nbformat": 4,
 "nbformat_minor": 1
}