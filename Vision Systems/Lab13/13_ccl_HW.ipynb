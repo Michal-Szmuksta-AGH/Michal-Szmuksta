{
 "cells": [
  {
   "cell_type": "code",
   "execution_count": null,
   "metadata": {
    "pycharm": {
     "name": "#%%\n"
    }
   },
   "outputs": [],
   "source": [
    "import os\n",
    "import cv2\n",
    "import matplotlib.pyplot as plt\n",
    "import numpy as np\n",
    "from copy import copy\n",
    "\n",
    "if not os.path.exists(\"details.png\") :\n",
    "    !wget https://raw.githubusercontent.com/vision-agh/poc_sw/master/13_CCL/details.png --no-check-certificate\n",
    "details = cv2.imread('details.png', cv2.IMREAD_GRAYSCALE)\n",
    "\n",
    "plt.imshow(details, 'gray')\n",
    "plt.axis('off')\n",
    "plt.title('Obraz oryginalny')\n",
    "plt.show()"
   ]
  },
  {
   "cell_type": "code",
   "execution_count": null,
   "metadata": {
    "pycharm": {
     "name": "#%%\n"
    }
   },
   "outputs": [],
   "source": [
    "fig, ax = plt.subplots(2,4,figsize=(30,10))\n",
    "\n",
    "dilate = cv2.dilate(details, cv2.getStructuringElement(cv2.MORPH_RECT, (7,7)))\n",
    "background = cv2.medianBlur(dilate, 17)\n",
    "diff = 255 - cv2.absdiff(details, background)\n",
    "norm = cv2.normalize(diff, None, alpha=0, beta=255, norm_type=cv2.NORM_MINMAX, dtype=cv2.CV_8UC1)\n",
    "\n",
    "ax[0][0].imshow(norm, 'gray')\n",
    "ax[0][0].axis('off')\n",
    "ax[0][0].set_title('1. Usunięcie tła z cieniami')\n",
    "\n",
    "details_tophat_1 = cv2.morphologyEx(norm, cv2.MORPH_TOPHAT, cv2.getStructuringElement(cv2.MORPH_ELLIPSE, (15,15)))\n",
    "details_tophat_segment_1 = np.zeros(details_tophat_1.shape)\n",
    "details_tophat_segment_1[50 : 130, 60 : 130] = details_tophat_1[50 : 130, 60 : 130]\n",
    "details_tophat_segment_1 = cv2.normalize(details_tophat_segment_1, None, alpha=0, beta=255, norm_type=cv2.NORM_MINMAX, dtype=cv2.CV_8UC1)\n",
    "ax[0][1].imshow(details_tophat_segment_1, 'gray')\n",
    "ax[0][1].axis('off')\n",
    "ax[0][1].set_title('2. Wyeksponowanie pierwszego białego elementu na czarnym tle')\n",
    "\n",
    "details_tophat_2 = cv2.morphologyEx(norm, cv2.MORPH_TOPHAT, cv2.getStructuringElement(cv2.MORPH_ELLIPSE, (8,8)))\n",
    "details_tophat_segment_2 = np.zeros(details_tophat_2.shape)\n",
    "details_tophat_segment_2[130 : 160, 60 : 130] = details_tophat_2[130 : 160, 60 : 130]\n",
    "details_tophat_segment_2 = cv2.normalize(details_tophat_segment_2, None, alpha=0, beta=255, norm_type=cv2.NORM_MINMAX, dtype=cv2.CV_8UC1)\n",
    "ax[0][2].imshow(details_tophat_segment_2, 'gray')\n",
    "ax[0][2].axis('off')\n",
    "ax[0][2].set_title('3. Wyeksponowanie drugiego białego elementu na czarnym tle')\n",
    "\n",
    "details_blackhat = cv2.morphologyEx(norm, cv2.MORPH_BLACKHAT, cv2.getStructuringElement(cv2.MORPH_ELLIPSE, (15,15)))\n",
    "details_blackhat_segment = details_blackhat\n",
    "details_blackhat[50 : 160, 60 : 130] = 0\n",
    "ax[0][3].imshow(details_blackhat_segment, 'gray')\n",
    "ax[0][3].axis('off')\n",
    "ax[0][3].set_title('4. Wyeksponowanie pozostałych czarnych elementów na białym tle')\n",
    "\n",
    "sum = details_tophat_segment_1 + details_tophat_segment_2 + details_blackhat_segment\n",
    "ax[1][0].imshow(sum, 'gray')\n",
    "ax[1][0].axis('off')\n",
    "ax[1][0].set_title('5. Zsumowanie powyższych obrazów')\n",
    "\n",
    "bin = sum > 55\n",
    "ax[1][1].imshow(bin, 'gray')\n",
    "ax[1][1].axis('off')\n",
    "ax[1][1].set_title('6. Binaryzacja')\n",
    "\n",
    "close = cv2.morphologyEx(bin.astype('uint8'), cv2.MORPH_CLOSE, cv2.getStructuringElement(cv2.MORPH_ELLIPSE, (4,4)), iterations=1)\n",
    "ax[1][2].imshow(close, 'gray')\n",
    "ax[1][2].axis('off')\n",
    "ax[1][2].set_title('7. Zamknięcie')\n",
    "\n",
    "erode = cv2.erode(close, cv2.getStructuringElement(cv2.MORPH_ELLIPSE, (2,2)))\n",
    "ax[1][3].imshow(erode, 'gray')\n",
    "ax[1][3].axis('off')\n",
    "ax[1][3].set_title('8. Erozja')\n",
    "\n",
    "plt.show()"
   ]
  },
  {
   "cell_type": "code",
   "execution_count": null,
   "metadata": {
    "pycharm": {
     "name": "#%%\n"
    }
   },
   "outputs": [],
   "source": [
    "num_labels, new_erode, stats, centroids = cv2.connectedComponentsWithStats(erode)\n",
    "plt.imshow(new_erode)\n",
    "plt.axis('off')\n",
    "plt.title('Rozpoznawanie')\n",
    "plt.show()\n",
    "\n",
    "vis_details = new_erode.copy()\n",
    "objects = []\n",
    "moments = []\n",
    "HuMoments = []\n",
    "for i in range(1, num_labels):\n",
    "    object = (new_erode == i) * 1\n",
    "    object = object.astype('uint8')\n",
    "    objects.append(object)\n",
    "    moment = cv2.moments(object)\n",
    "    # print(i)\n",
    "    # print(moment['m00'])\n",
    "    moments.append(moment)\n",
    "    HuMoment = cv2.HuMoments(moment)\n",
    "    # print(HuMoment[0])\n",
    "    # print()\n",
    "    HuMoments.append(HuMoment)\n",
    "    cv2.putText(vis_details,str(i),(int(centroids[i,0]),int(centroids[i,1])),cv2.FONT_HERSHEY_SIMPLEX,1,(20,0,0),2)\n",
    "plt.imshow(vis_details)\n",
    "plt.axis('off')\n",
    "plt.title('Numeracja')\n",
    "plt.show()"
   ]
  },
  {
   "cell_type": "code",
   "execution_count": null,
   "metadata": {
    "pycharm": {
     "name": "#%%\n"
    }
   },
   "outputs": [],
   "source": [
    "new_image = np.zeros(new_erode.shape)\n",
    "for i in range(1, num_labels):\n",
    "    if HuMoments[i - 1][0] > 0.27 and moments[i - 1]['m00'] > 413:\n",
    "        new_image += objects[i - 1]\n",
    "\n",
    "plt.imshow(new_image)\n",
    "plt.axis('off')\n",
    "plt.title('Śrubki')\n",
    "plt.show()\n",
    "\n",
    "new_image = np.zeros(new_erode.shape)\n",
    "for i in range(1, num_labels):\n",
    "    if (HuMoments[i - 1][0] < 0.23 and moments[i - 1]['m00'] < 250) or (HuMoments[i - 1][0] < 0.205 and 727 > moments[i - 1]['m00'] > 634):\n",
    "        new_image += objects[i - 1]\n",
    "\n",
    "plt.imshow(new_image)\n",
    "plt.axis('off')\n",
    "plt.title('Nakrętki')\n",
    "plt.show()\n",
    "\n",
    "new_image = np.zeros(new_erode.shape)\n",
    "for i in range(1, num_labels):\n",
    "    if not(HuMoments[i - 1][0] > 0.27 and moments[i - 1]['m00'] > 413) and not ((HuMoments[i - 1][0] < 0.23 and moments[i - 1]['m00'] < 250) or (HuMoments[i - 1][0] < 0.205 and 727 > moments[i - 1]['m00'] > 634)):\n",
    "        new_image += objects[i - 1]\n",
    "\n",
    "plt.imshow(new_image)\n",
    "plt.axis('off')\n",
    "plt.title('Podkładki')\n",
    "plt.show()"
   ]
  }
 ],
 "metadata": {
  "kernelspec": {
   "display_name": "Python 3 (ipykernel)",
   "language": "python",
   "name": "python3"
  },
  "language_info": {
   "codemirror_mode": {
    "name": "ipython",
    "version": 3
   },
   "file_extension": ".py",
   "mimetype": "text/x-python",
   "name": "python",
   "nbconvert_exporter": "python",
   "pygments_lexer": "ipython3",
   "version": "3.9.13"
  }
 },
 "nbformat": 4,
 "nbformat_minor": 1
}